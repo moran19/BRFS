{
 "cells": [
  {
   "cell_type": "markdown",
   "id": "fc60e40b",
   "metadata": {},
   "source": [
    "# Hong Kong Living Habits and Trends - Data Analysis and Visualization "
   ]
  },
  {
   "cell_type": "markdown",
   "id": "5cac03a7",
   "metadata": {},
   "source": [
    "## Group 8: RON Moran, XIAO Xin, and ZHAO Gaohong"
   ]
  },
  {
   "cell_type": "code",
   "execution_count": null,
   "id": "c0993bd9",
   "metadata": {},
   "outputs": [],
   "source": [
    "import pandas as pd"
   ]
  },
  {
   "cell_type": "code",
   "execution_count": null,
   "id": "5ad0dfc8",
   "metadata": {},
   "outputs": [],
   "source": [
    "from sklearn.experimental import enable_iterative_imputer\n",
    "from sklearn.impute import IterativeImputer"
   ]
  },
  {
   "cell_type": "code",
   "execution_count": null,
   "id": "a27effa1",
   "metadata": {},
   "outputs": [],
   "source": [
    "import seaborn as sns\n",
    "import numpy as np\n",
    "import plotly as pl\n",
    "import plotly.express as px\n",
    "import plotly.graph_objects as go\n",
    "import matplotlib.pyplot as plt"
   ]
  },
  {
   "cell_type": "code",
   "execution_count": null,
   "id": "0b5358fd",
   "metadata": {},
   "outputs": [],
   "source": [
    "d2004 = pd.read_excel(\"2004oct.xlsx\")\n",
    "d2005 = pd.read_excel(\"2005apr.xlsx\")\n",
    "d2006 = pd.read_excel(\"2006apr.xlsx\")\n",
    "d2007 = pd.read_excel(\"2007apr.xlsx\")\n",
    "d2008 = pd.read_excel(\"2008apr.xlsx\")\n",
    "d2009 = pd.read_excel(\"2009apr.xlsx\")\n",
    "d2010 = pd.read_excel(\"2010apr.xlsx\")\n",
    "d2012 = pd.read_excel(\"2012apr.xlsx\")\n",
    "d2014 = pd.read_excel(\"2014apr.xlsx\")\n",
    "d2016 = pd.read_excel(\"2016apr.xlsx\")"
   ]
  },
  {
   "cell_type": "markdown",
   "id": "daffca30",
   "metadata": {},
   "source": [
    "# Preprocessing"
   ]
  },
  {
   "cell_type": "markdown",
   "id": "89a0322d",
   "metadata": {},
   "source": [
    "Change column names to fit the question asked. Some of the questions were different between the years and in some cases the questions had a different code (for example, v30_A in 2004 is the same as v32 in 2005 and v30 in 2006).\n",
    "In some cases, there were diferences in the phrasing of the question so the colum name was adjusted to fit previous years. This will allows us to prperly concat the colums.\n",
    "For yeas, 2009, 2010, and 2012, there was a question of \"How often did you do this in the last 30 days?\" refering to \"In the last 30 days, did you drink so much that you exhibited signs of drunkenness, such as flushed face or reddened eyes, slurred or incoherent speech, unsteady or staggering gait, vomiting and hangover in the next day?\". This question was dropped so that the DF could be concat, as there's another quesion that is the same but reffers to \"In the last 30 days, did you drink at least 5 glasses or cans of alcohol on one occasion?\". This is because having more than one column with the same name creates umbiguity. It was only for some of the years and there were other questions that helped provide similar information (including the one kept) that it seemd reasonable to drop it."
   ]
  },
  {
   "cell_type": "markdown",
   "id": "bead9518",
   "metadata": {},
   "source": [
    "In some years the answers had a different key-value pairs so it was adjusted befor concating in order to properly map it later. This was partially reveled through visualization.\n",
    "For example, in 2005, \"On how many days per week during the last month, on average, did you drink at least one alcoholic drink?\" had a reverse scale."
   ]
  },
  {
   "cell_type": "code",
   "execution_count": null,
   "id": "d0e8b501",
   "metadata": {},
   "outputs": [],
   "source": [
    "d2004 = d2004.rename(columns={\"v3_A\": \"What is your height without wearing shoes? (cm)\", \"v4_A\": \"What is your weight wearing simple clothes? (kg)\",\n",
    "                      \"v5_A\": \"What is your waist circumference? (cm)\", \"v6_A\": \"Does your weight now differ by more than 10 pounds (about 4.5Kg) from your weight one year ago?\",\n",
    "                      \"v7_A\": \"Did it increase or decrease?\", \"v8_A\": \"What do you think about your current weight?\",\n",
    "                      \"v9_A\": \"During the past 12 months, did you try to do something deliberately to control your weight? (i.e. for increasing weight, decreasing weight or maintaining weight)\", \n",
    "                      \"v10_A\": \"Is it for increasing weight, losing weight or maintaining weight?\",\n",
    "                      \"v11_A\": \"Taking the drugs or products (include health food) for controlling weight?\",\n",
    "                      \"v12_A\": \"How long had you been taking the drugs or products including health food?\", \"v13_A\": \"Consulting doctors or dieticians?\",\n",
    "                      \"v14_A\": \"Hong long had you been consulting doctors or dieticians?\",\n",
    "                      \"v15_A\": \"Going to weight control or beauty parlours?\",\n",
    "                      \"v16_A\": \"How long had you been going to weight control or beauty parlours?\",\n",
    "                      \"v17_A\": \"Doing physical exercises?\",\n",
    "                      \"v18_A\": \"How long had you been doing physical exercises?\",\n",
    "                      \"v19_A\": \"Changing dietary habit?\",\n",
    "                      \"v20_A\": \"How long had you been changing dietary habit?\",\n",
    "                      \"v21_A\": \"Any other methods?\",\n",
    "                      \"v22_A\": \"How long had you been using this Method?\",\n",
    "                      \"v23_A\": \"During the last 7 days, on how many days did you do vigorous physical activities?\",\n",
    "                      \"v24_A\": \"On those days that you have performed vigorous physical activity for at least 10 minutes, how much time on average per day did you usually spend on doing vigorous physical activities? (minutes)\",\n",
    "                      \"v25_A\": \"During the last 7 days, on how many days did you do moderate physical activities?\",\n",
    "                      \"v26_A\": \"On those days that you have performed moderate physical activity for at least 10 minutes, how much time on average per day did you usually spend on doing moderate physical activities? (minutes)\",\n",
    "                      \"v27_A\": \"During the last 7 days, on how many days did you walk for at least 10 minutes at a time?\",\n",
    "                      \"v28_A\": \"On those days that you have walked for at least 10 minutes, how much time on average did you usually spend on walking in one of those days? (minutes)\",\n",
    "                      \"v29_A\": \"During the past 7 days, how much time on average did you usually spend on sitting on a weekday? (minutes)\",\n",
    "                      \"v30_A\": \"On average, how many days do you eat fruit each week?\",\n",
    "                      \"v31_A\": \"How many fruits, on average, did you eat on one of those days?\",\n",
    "                      \"v32_A\": \"On average, how many days do you eat vegetables each week?\",\n",
    "                      \"v33_A\": \"How many bowls of vegetables, on average, did you eat on one of those days?\",\n",
    "                      \"v45_A\": \"During the last month, had you had at least one alcoholic drink?\",\n",
    "                      \"v46_A\": \"On how many days per week during the last month, on average, did you drink at least one alcoholic drink?\",\n",
    "                      \"v47_A\": \"How many standard drinks on average did you drink on those days?\",\n",
    "                      \"v48_A\": \"In the last month, did you drink at least 5 glasses or cans of alcohol on one occasion?\",\n",
    "                      \"v49_A\": \"How many times did you do this in the last month?\",\n",
    "                      \"v50_A\": \"Have you smoked before?\",\n",
    "                      \"v51_A\": \"How long have you abstained from smoking?\",\n",
    "                      \"v52_A\": \"How many cigarettes do you smoke on average per day?\",\n",
    "                      \"v74_A\": \"What is your age?\",\n",
    "                      \"v75_A\": \"What is your highest educational attainment?\",\n",
    "                      \"v76_A\": \"What is your marital status?\",\n",
    "                      \"v77_A\": \"Are you currently engaged in a job?\",\n",
    "                      \"v78_A\": \"What is your occupation?\",\n",
    "                      \"v79_A\": \"Are you a ... (if not employed)\",\n",
    "                      \"v80_A\": \"How much is your monthly personal income including all the Income?\",\n",
    "                      \"v81_A\": \"How much is your monthly household income including all the income\"})"
   ]
  },
  {
   "cell_type": "code",
   "execution_count": null,
   "id": "a73d7fc2",
   "metadata": {},
   "outputs": [],
   "source": [
    "d2005 = d2005.rename(columns={\"v3\": \"What is your height without wearing shoes? (cm)\", \"v4\": \"What is your weight wearing simple clothes? (kg)\",\n",
    "                      \"v5\": \"What is your waist circumference? (cm)\", \"v6\": \"Does your weight now differ by more than 10 pounds (about 4.5Kg) from your weight one year ago?\",\n",
    "                      \"v7\": \"Did it increase or decrease?\", \"v8\": \"What do you think about your current weight?\",\n",
    "                      \"v9\": \"During the past 12 months, did you try to do something deliberately to control your weight? (i.e. for increasing weight, decreasing weight or maintaining weight)\", \n",
    "                      \"v10\": \"Is it for increasing weight, losing weight or maintaining weight?\",\n",
    "                      \"v11\": \"Taking the drugs or products (include health food) for controlling weight?\",\n",
    "                      \"v12\": \"How long had you been taking the drugs or products including health food?\", \"v13\": \"Consulting doctors or dieticians?\",\n",
    "                      \"v14\": \"Hong long had you been consulting doctors or dieticians?\",\n",
    "                      \"v15\": \"Going to weight control or beauty parlours?\",\n",
    "                      \"v16\": \"How long had you been going to weight control or beauty parlours?\",\n",
    "                      \"v17\": \"Doing physical exercises?\",\n",
    "                      \"v18\": \"How long had you been doing physical exercises?\",\n",
    "                      \"v19\": \"Changing dietary habit?\",\n",
    "                      \"v20\": \"How long had you been changing dietary habit?\",\n",
    "                      \"v21\": \"Any other methods?\",\n",
    "                      \"v22\": \"How long had you been using this Method?\",\n",
    "                      \"v23\": \"During the last 7 days, on how many days did you do vigorous physical activities?\",\n",
    "                      \"v24\": \"On those days that you have performed vigorous physical activity for at least 10 minutes, how much time on average per day did you usually spend on doing vigorous physical activities? (minutes)\",\n",
    "                      \"v25\": \"During the last 7 days, on how many days did you do moderate physical activities?\",\n",
    "                      \"v26\": \"On those days that you have performed moderate physical activity for at least 10 minutes, how much time on average per day did you usually spend on doing moderate physical activities? (minutes)\",\n",
    "                      \"v27\": \"During the last 7 days, on how many days did you walk for at least 10 minutes at a time?\",\n",
    "                      \"v28\": \"On those days that you have walked for at least 10 minutes, how much time on average did you usually spend on walking in one of those days? (minutes)\",\n",
    "                      \"v29\": \"During the past 7 days, how much time on average did you usually spend on sitting on a weekday? (minutes)\",\n",
    "                      \"v30\": \"On average, how many days do you drink at least one cup of fruit or vegetable juice each week?\",\n",
    "                      \"v31\": \"On the day(s) that you have drunk juice, how many cups do you usually drink?\",\n",
    "                      \"v32\": \"On average, how many days do you eat fruit each week?\",\n",
    "                      \"v33\": \"How many fruit, on average, did you eat on one of those days?\",\n",
    "                      \"v34\": \"On average, how many days do you eat vegetables each week?\",\n",
    "                      \"v35\": \"How many bowls of vegetables, on average, did you eat on one of those days?\",\n",
    "                      \"v39\": \"During the last month, have you had at least one alcoholic drink?\",\n",
    "                      \"v40\": \"On how many days per week during the last month, on average, did you drink at least one alcoholic drink?\",\n",
    "                      \"v41\": \"How many standard drinks on average did you drink on those days?\",\n",
    "                      \"v42\": \"In the last month, did you drink at least 5 glasses or cans of alcohol on one occasion?\",\n",
    "                      \"v43\": \"How many times did you do this in the last month?\",\n",
    "                      \"v44\": \"Have you smoked before?\",\n",
    "                      \"v45\": \"How long have you abstained from smoking?\",\n",
    "                      \"v46\": \"How many cigarettes do you smoke on average per day?\",\n",
    "                      \"v60\": \"What is your age?\",\n",
    "                      \"v61\": \"What is your highest educational attainment?\",\n",
    "                      \"v62\": \"What is your marital status?\",\n",
    "                      \"v63\": \"Are you currently engaged in a job?\",\n",
    "                      \"v64\": \"What is your occupation?\",\n",
    "                      \"v65\": \"Are you a ... (if not employed)\",\n",
    "                      \"v66\": \"How much is your monthly personal income including all the Income?\",\n",
    "                      \"v67\": \"How much is your monthly household income including all the income\"})"
   ]
  },
  {
   "cell_type": "code",
   "execution_count": null,
   "id": "a1dd5aee",
   "metadata": {},
   "outputs": [],
   "source": [
    "alc05_map = {0:0, 1:7,2: 6, 3: 5, 4: 4, 5: 3, 6: 2, 7: 1, 8: 8, 998: 98, 7777: 77}\n",
    "d2005[\"On how many days per week during the last month, on average, did you drink at least one alcoholic drink?\"] = d2005[\"On how many days per week during the last month, on average, did you drink at least one alcoholic drink?\"].map(arg=alc05_map)"
   ]
  },
  {
   "cell_type": "code",
   "execution_count": null,
   "id": "df15f420",
   "metadata": {},
   "outputs": [],
   "source": [
    "d2006 = d2006.rename(columns={'height_o': \"What is your height without wearing shoes? (cm)\", \n",
    "                              'weight_o': \"What is your weight wearing simple clothes? (kg)\",\n",
    "                              'waist_o': \"What is your waist circumference? (cm)\",\n",
    "                              'v7_r': \"Does your weight now differ by more than 10 pounds (about 4.5Kg) from your weight one year ago?\",\n",
    "                              'v8_r': \"Did it increase or decrease?\",\n",
    "                              'v9_r': \"What do you think about your current weight?\",\n",
    "                              'v10_r': \"During the past 12 months, did you try to do something deliberately to control your weight for example increasing weight, decreasing weight or maintaining weight?\",\n",
    "                              'v11_r': \"Was it for increasing weight, losing weight or maintaining weight?\",\n",
    "                              'v13_r2': \"Taking the drugs or products including health food for controlling your weight?\",\n",
    "                              'v14_r2': \"Consulting doctors or dieticians?\",\n",
    "                              'v15_r2': \"Going to weight control or beauty parlours?\",\n",
    "                              'v16_r2': \"Doing physical exercises?\",\n",
    "                              'v17_r2': \"Changing dietary habit?\",\n",
    "                              'v18_r2': \"Any other methods?\", \n",
    "                              'v19': \"During the last 7 days, on how many days did you do vigorous physical activities\",\n",
    "                              'v20': \"On those days that you have performed vigorous physical activity for at least 10 minutes, how much time on average per day did you usually spend on doing vigorous physical activities? (minutes)\",\n",
    "                              'v21': \"During the last 7 days, on how many days did you do moderate physical activities?\", \n",
    "                              'v22': \"On those days that you have performed moderate physical activity for at least 10 minutes, how much time on average per day did you usually spend on doing moderate physical activities? (minutes)\", \n",
    "                              'v23': \"During the last 7 days, on how many days did you walk for at least 10 minutes at a time?\", \n",
    "                              'v24': \"On those days that you have walked for at least 10 minutes, how much time on average did you usually spend on walking in one of those days? (minutes)\",\n",
    "                              'v25': \"During the past 7 days, how much time on average did you usually spend on sitting on a weekday? (minutes)\", \n",
    "                              'v26': \"In general, would you say your physical activity level is?\", \n",
    "                              'v27': \"For those answering (2) and (3), what is the major barrier for not having more physical activity?\",\n",
    "                              'v28': \"On average, how many days do you drink at least one cup of fruit or vegetable juice each week?\",\n",
    "                              'v29': \"On the day(s) that you have drunk juice, how many cups do you usually drink?\",\n",
    "                              'v30': \"On average, how many days do you eat fruit each week?\", \n",
    "                              'v31': \"How many fruit, on average, did you eat on one of those days?\", \n",
    "                              'v32': \"On average, how many days do you eat vegetables each week?\", \n",
    "                              'v33': \"How many bowls of cooked vegetables, on average, did you eat on one of those days?\", \n",
    "                              'v34': \"During the last month, have you 1 had at least one alcoholic drink?\", \n",
    "                              'v35': \"On how many days per week during the last month, on average, did you drink at least one alcoholic drink?\", \n",
    "                              'v36': \"How many standard drinks on average did you drink on those days?\", \n",
    "                              'v37': \"In the last month, did you drink at least 5 glasses or cans of alcohol on one occasion?\",\n",
    "                              'v38': \"How many times did you do this in the last month?\", \n",
    "                              'v39': \"Have you smoked before?\",\n",
    "                              'v40': \"How long have you abstained from smoking?\",\n",
    "                              'v41': \"How many cigarettes do you smoke on average per day?\",\n",
    "                              'v67': \"What is your age?\", \n",
    "                              'v68': \"What is your highest educational 3 attainment?\", \n",
    "                              'v69': \"What is your marital status?\", \n",
    "                              'v70': \"Are you currently engaged in a job?\", \n",
    "                              'v71': \"What is your occupation?\",\n",
    "                              'v72': \"Are you a ... (if not employed)\", \n",
    "                              'v73': \"How much is your monthly personal income including all the income?\", \n",
    "                              'v74': \"How much is your monthly household income including all the income?\"})"
   ]
  },
  {
   "cell_type": "code",
   "execution_count": null,
   "id": "cb2780cf",
   "metadata": {},
   "outputs": [],
   "source": [
    "d2007 = d2007.rename(columns={'v4': \"sex\", \n",
    "                              'height': \"What is your height without wearing shoes? (cm)\", \n",
    "                              'weight': \"What is your weight wearing simple clothes? (kg)\", \n",
    "                              'waist': \"What is your waist circumference? (cm)\", \n",
    "                              'v8': \"Does your weight now differ by more than 10 pounds (about 4.5Kg) from your weight one year ago?\", \n",
    "                              'v9': \"Did it increase or decrease?\", \n",
    "                              'v10': \"What do you think about your current weight?\",\n",
    "                              'v11': \"During the past 12 months, did you try to do something deliberately to control your weight for example increasing weight, decreasing weight or maintaining weight?\", \n",
    "                              'v12': \"Was it for increasing weight, losing weight or maintaining weight?\", \n",
    "                              'v13': \"Taking the drugs or products including health food for controlling your weight?\", \n",
    "                              'v14': \"Consulting doctors or dieticians?\", \n",
    "                              'v15': \"Going to weight control or beauty parlours?\", \n",
    "                              'v16': \"Doing physical exercises?\", \n",
    "                              'v17': \"Changing dietary habit?\", \n",
    "                              'v18': \"Any other methods?\", \n",
    "                              'v19': \"During the last 7 days, on how many days did you do vigorous physical activities?\", \n",
    "                              'v20': \"On those days that you have performed vigorous physical activity for at least 10 minutes, how much time on average per day did you usually spend on doing vigorous physical activities? (minutes)\",\n",
    "                              'v21': \"During the last 7 days, on how many days did you do moderate physical activities?\", \n",
    "                              'v22': \"On those days that you have performed moderate physical activity for at least 10 minutes, how much time on average per day did you usually spend on doing moderate physical activities? (minutes)\", \n",
    "                              'v23': \"During the last 7 days, on how many days did you walk for at least 10 minutes at a time?\", \n",
    "                              'v24': \"On those days that you have walked for at least 10 minutes, how much time on average did you usually spend on walking in one of those days? (minutes)\",\n",
    "                              'v25': \"During the past 7 days, how much time on average did you usually spend on sitting on a weekday? (minutes)\", \n",
    "                              'v26': \"On average, how many days do you eat fruit each week?\", \n",
    "                              'v27': \"On average, how many fruit did you eat on one of those days?\", \n",
    "                              'v28': \"On average, how many days do you eat vegetables each week?\", \n",
    "                              'v29': \"On average, how many bowls of cooked vegetables did you eat on one of those days?\", \n",
    "                              'v30': \"On average, how many days do you drink at least one cup of fruit or vegetable juice each week?\",\n",
    "                              'v47': \"Have you ever had at least one alcoholic drink?\", \n",
    "                              'v48': \"On how many days per week during the last month, on average, did you drink at least one alcoholic drink?\", \n",
    "                              'v49': \"How many standard drinks on average did you drink on those days?\", \n",
    "                              'v50': \"In the last month, did you drink at least 5 glasses or cans of alcohol on one occasion?\", \n",
    "                              'v51': \"How many times did you do this in the last month?\", \n",
    "                              'v52': \"Have you smoked before?\", \n",
    "                              'v53': \"How long have you abstained from smoking?\", \n",
    "                              'v54': \"How many cigarettes do you smoke on average per day?\", \n",
    "                              'v71': \"What is your age?\", \n",
    "                              'v72': \"What is your highest educational attainment?\",\n",
    "                              'v73': \"What is your marital status?\",\n",
    "                              'v74': \"Are you currently engaged in a job?\",\n",
    "                              'v75': \"What is your occupation?\",\n",
    "                              'v76': \"Are you a ... (if not employed)\",\n",
    "                              'v77': \"How much is your monthly personal income including all the income?\",\n",
    "                              'v78': \"How much is your monthly household income including all the income?\",\n",
    "                              'v79': \"How many people are living in this household, including yourself but excluding live-in maids?\",\n",
    "                              'v80': \"What is your type of living quarter?\"})"
   ]
  },
  {
   "cell_type": "code",
   "execution_count": null,
   "id": "6bbbc083",
   "metadata": {},
   "outputs": [],
   "source": [
    "occupation_map = {0:0, 1:1, 2:2, 3:3, 4:4, 5:5, 6:6, 7:7, 8:8, 9:9, 10:10, 11:12, 99:99}\n",
    "d2007[\"What is your occupation?\"] = d2007[\"What is your occupation?\"].map(arg=occupation_map)"
   ]
  },
  {
   "cell_type": "code",
   "execution_count": null,
   "id": "867ca780",
   "metadata": {},
   "outputs": [],
   "source": [
    "d2008 = d2008.rename(columns={'height': \"What is your height without wearing shoes? (cm)\", \n",
    "                              'weight': \"What is your weight wearing simple clothes? (kg)\", \n",
    "                              'waist': \"What is your waist circumference? (cm)\", \n",
    "                              'v7_r': \"Does your weight now differ by more than 10 pounds (about 4.5Kg) from your weight one year ago?\", \n",
    "                              'v8_r': \"Did it increase or decrease?\",\n",
    "                              'v9_r': \"What do you think about your current weight?\", \n",
    "                              'v10_r': \"During the past 12 months, did you try to do something deliberately to control your weight for example increasing weight, decreasing weight or maintaining weight?\", \n",
    "                              'v11_r': \"Was it for increasing weight, losing weight or maintaining weight?\", \n",
    "                              'v12_r': \"Taking the drugs or products including health food for controlling your weight?\", \n",
    "                              'v13_r': \"Consulting doctors or dieticians?\", \n",
    "                              'v14_r': \"Going to weight control or beauty parlours?\", \n",
    "                              'v15_r': \"Doing physical exercises?\", \n",
    "                              'v16_r': \"Changing dietary habit?\",\n",
    "                              'v17_r': \"Any other methods?\", \n",
    "                              'v19': \"During the last 7 days, on how many days did you do vigorous physical activities?\", \n",
    "                              'v20': \"On those days that you have performed vigorous physical activity for at least 10 minutes, how much time on average per day did you usually spend on doing vigorous physical activities? (minutes)\", \n",
    "                              'v21': \"During the last 7 days, on how many days did you do moderate physical activities?\", \n",
    "                              'v22': \"On those days that you have performed moderate physical activity for at least 10 minutes, how much time on average per day did you usually spend on doing moderate physical activities? (minutes)\", \n",
    "                              'v23': \"During the last 7 days, on how many days did you walk for at least 10 minutes at a time?\",\n",
    "                              'v24': \"On those days that you have walked for at least 10 minutes, how much time on average did you usually spend on walking in one of those days? (minutes)\",\n",
    "                              'v25': \"During the past 7 days, how much time on average did you usually spend on sitting on a weekday? (minutes)\", \n",
    "                              'v26': \"During the past 30 days, how often do you exercise in your leisure time, which at least made you breathe somewhat harder than normal and sweat?\", \n",
    "                              'v27': \"During weekdays (i.e. Monday to Friday), how much leisure time per day did you usually spend on watching television, including videos, VCDs or DVDs? (minutes)\",\n",
    "                              'v28': \"During weekdays (i.e. Monday to Friday), how much leisure time per day did you usually spend on surfing the internet or engaging in related activities? (minutes)\", \n",
    "                              'v29': \"During weekdays (i.e. Monday to Friday), how much leisure time per day did you usually spend on other sedentary activities, such as reading books, newspapers and magazines, playing video or computer games (excluding motion games, for example “wii”), drawing, listening to music or playing music instruments? (minutes)\", \n",
    "                              'v30': \"During weekends and public holidays, how much leisure time per day did you usually spend on watching television, including videos, VCDs or DVDs? (minutes)\", \n",
    "                              'v31': \"During weekends and public holidays, how much leisure time per day did you usually spend on surfing the internet or engaging in related activities? (minutes)\", \n",
    "                              'v32': \"During weekends and public holidays, how much leisure time per day did you usually spend on other sedentary activities, such as reading books, newspapers and magazines, playing video or computer games (excluding motion games, for example “wii”), drawing, listening to music or playing music instruments? (minutes)\", \n",
    "                              'v33': \"On average, how many days do you eat fruit each week?\", \n",
    "                              'v34': \"On average, how many fruit did you eat on one of those days?\", \n",
    "                              'v35': \"On average, how many days do you eat vegetables each week?\", \n",
    "                              'v36': \"On average, how many bowls of cooked vegetables did you eat on one of those days?\", \n",
    "                              'v37': \"On average, how many days do you drink at least one cup of fruit or vegetable juice each week?\",\n",
    "                              'v38': \"Have you ever had at least one alcoholic drink?\", \n",
    "                              'v39': \"On how many days per week during the last month, on average, did you drink at least one alcoholic drink?\", \n",
    "                              'v40': \"How many standard drinks on average did you drink on those days?\", \n",
    "                              'v41': \"In the last month, did you drink at least 5 glasses or cans of alcohol on one occasion?\", \n",
    "                              'v42': \"How many times did you do this in the last month?\", \n",
    "                              'v43': \"Have you smoked before?\", \n",
    "                              'v44': \"How long have you abstained from smoking?\", \n",
    "                              'v45': \"How many cigarettes do you smoke on average per day?\", \n",
    "                              'age': \"What is your age?\", \n",
    "                              'v74': \"What is your highest educational attainment?\",\n",
    "                              'v75': \"What is your marital status?\",\n",
    "                              'v76': \"Are you currently engaged in a job?\",\n",
    "                              'v77': \"What is your occupation?\",\n",
    "                              'v78': \"Are you a ... (if not employed)\",\n",
    "                              'v79': \"How much is your monthly personal income including all the income?\",\n",
    "                              'v80': \"How much is your monthly household income including all the income?\",\n",
    "                              'v81': \"How many people are living in this household, including yourself but excluding live-in maids?\",\n",
    "                              'v82': \"What is your type of living quarter?\"})"
   ]
  },
  {
   "cell_type": "code",
   "execution_count": null,
   "id": "80088a61",
   "metadata": {},
   "outputs": [],
   "source": [
    "d2008[\"What is your occupation?\"] = d2008[\"What is your occupation?\"].map(arg=occupation_map)"
   ]
  },
  {
   "cell_type": "code",
   "execution_count": null,
   "id": "cca489c8",
   "metadata": {},
   "outputs": [],
   "source": [
    "d2009 = d2009.rename(columns={'v4': \"sex\", \n",
    "                              'v5x': \"What is your height without wearing shoes? (cm)\", \n",
    "                              'v6x': \"What is your weight wearing simple clothes? (kg)\", \n",
    "                              'v7x': \"What is your waist circumference? (cm)\", \n",
    "                              'v8_r': \"Does your weight now differ by more than 10 pounds (about 4.5Kg) from your weight one year ago?\", \n",
    "                              'v9_r': \"Did it increase or decrease?\", \n",
    "                              'v10_r': \"What do you think about your current weight?\",\n",
    "                              'v11_r': \"During the past 12 months, did you try to do something deliberately to control your weight for example increasing weight, decreasing weight or maintaining weight?\", \n",
    "                              'v12_r': \"Was it for increasing weight, losing weight or maintaining weight?\", \n",
    "                              'v13_r': \"Taking the drugs or products including health food for controlling your weight?\", \n",
    "                              'v14_r': \"Consulting doctors or dieticians?\", \n",
    "                              'v15_r': \"Going to weight control or beauty parlours?\", \n",
    "                              'v16_r': \"Doing physical exercises?\", \n",
    "                              'v17_r': \"Changing dietary habit?\", \n",
    "                              'v18_r': \"Any other methods?\",\n",
    "                              'v20': \"During the last 7 days, on how many days did you do vigorous physical activities? (days)\", \n",
    "                              'v21': \"On those days that you have performed vigorous physical activity for at least 10 minutes, how much time on average per day did you usually spend on doing vigorous physical activities? (minutes)\", \n",
    "                              'v22': \"During the last 7 days, on how many days did you do moderate physical activities? (days)\", \n",
    "                              'v23': \"On those days that you have performed moderate physical activity for at least 10 minutes, how much time on average per day did you usually spend on doing moderate physical activities? (minutes)\", \n",
    "                              'v24': \"During the past 7 days, how many days in total did you have moderate physical activities for at least 30 minutes, or vigorous physical activities for at least 20 minutes? (days)\",\n",
    "                              'v25': \"During the last 7 days, on how many days did you walk for at least 10 minutes at a time?\", \n",
    "                              'v26': \"On those days that you have walked for at least 10 minutes, how much time on average did you usually spend on walking in one of those days? (minutes)\",\n",
    "                              'v27x': \"During the past 7 days, how much time on average did you usually spend on sitting on a weekday? (minutes)\", \n",
    "                              'v28': \"During the past 30 days, how often did you exercise in your leisure time, which at least made you breathe somewhat harder than normal and sweat?\", \n",
    "                              'v29': \"On average, how many days do you eat fruit each week?\",\n",
    "                              'v30': \"On average, how many fruit did you eat on one of those days?\", \n",
    "                              'v31': \"On average, how many days do you eat vegetables each week?\", \n",
    "                              'v32': \"On average, how many bowls of cooked vegetables did you eat on one of those days?\", \n",
    "                              'v33': \"On average, how many days do you drink at least one cup of fruit or vegetable juice each week?\", \n",
    "                              'v34': \"Have you smoked before?\", \n",
    "                              'v35': \"How long have you abstained from smoking?\", \n",
    "                              'v36': \"How many cigarettes do you smoke on average per day?\", \n",
    "                              'v37': \"Have you ever had at least one alcoholic drink?\", \n",
    "                              'v38': \"On how many days per week during the last month, on average, did you drink at least one alcoholic drink?\", \n",
    "                              'v39x': \"How many standard units of drinks on average did you drink on those days?\",\n",
    "                              'v40_r': \"In the last 30 days, did you drink at least 5 glasses or cans of alcohol on one occasion?\", \n",
    "                              'v41_r': \"How many times did you do this in the last 30 days?\", \n",
    "                              'v42_r': \"In the last 30 days, did you drink so much and exhibited signs of drunkenness, such as flushed face or reddened eyes, slurred or incoherent speech, unsteady feet or staggering gait, vomiting and hangover in the next day?\", \n",
    "                              'v70': \"What is your age?\", \n",
    "                              'v71': \"What is your highest educational attainment?\",\n",
    "                              'v72': \"What is your marital status?\",\n",
    "                              'v73': \"Are you currently engaged in a job?\",\n",
    "                              'v74': \"What is your occupation?\",\n",
    "                              'v75': \"Are you a ... (if not employed)\",\n",
    "                              'v76': \"How much is your monthly personal income including all the income?\",\n",
    "                              'v77': \"How much is your monthly household income including all the income?\",\n",
    "                              'v78': \"How many ‘dependents’ do you currently have?\",\n",
    "                              'v79': \"What is your type of living quarter?\",\n",
    "                              \"v80\": \"How many people are living in this household, including yourself but excluding live-in maids?\",\n",
    "                              \"v81\" : \"What is your religion?\"})"
   ]
  },
  {
   "cell_type": "code",
   "execution_count": null,
   "id": "5ec8d103",
   "metadata": {},
   "outputs": [],
   "source": [
    "d2009 = d2009.drop(columns=['v43_r'])"
   ]
  },
  {
   "cell_type": "code",
   "execution_count": null,
   "id": "97354e57",
   "metadata": {},
   "outputs": [],
   "source": [
    "d2010 = d2010.rename(columns={'v5x': \"What is your height without wearing shoes? (cm)\", \n",
    "                              'v6x': \"What is your weight wearing simple clothes? (kg)\", \n",
    "                              'v7x': \"What is your waist circumference? (cm)\", \n",
    "                              'v8_r': \"What do you think about your current weight?\", \n",
    "                              'v9': \"During the last 7 days, on how many days did you do vigorous physical activities?\", \n",
    "                              'v10': \"On those days that you have performed vigorous physical activities for at least 10 minutes, how much time on average per day did you usually spend on doing vigorous physical activities? (minutes)\", \n",
    "                              'v11': \"During the last 7 days, on how many days did you do moderate physical activities?\",\n",
    "                              'v12': \"On those days that you have performed moderate physical activities for at least 10 minutes, how much time on average per day did you usually spend on doing moderate physical activities? (minutes)\", \n",
    "                              'v13': \"During the last 7 days, how many days in total did you have moderate physical activities for at least 30 minutes, or vigorous physical activities for at least 20 minutes?\", \n",
    "                              'v14': \"During the last 7 days, on how many days did you walk for at least 10 minutes at a time?\", \n",
    "                              'v15': \"On those days that you have walked for at least 10 minutes at a time, how much time on average did you usually spend on walking in one of those days? (minutes)\", \n",
    "                              'v16': \"During the last 7 days, how much time on average did you usually spend on sitting on a weekday? (minutes)\", \n",
    "                              'v17': \"During the past 30 days, how often did you exercise in your leisure time, which at least made you breathe somewhat harder than normal and sweat?\", \n",
    "                              'v18': \"On average, how many days do you eat fruit each week?\", \n",
    "                              'v19': \"On average, how many fruit did you eat on one of those days?\", \n",
    "                              'v20': \"On average, how many days do you eat vegetables each week?\", \n",
    "                              'v21': \"On average, how many bowls of cooked vegetables did you eat on one of those days?\",\n",
    "                              'v22': \"On average, how many days do you drink at least one cup of fruit or vegetable juice each week?\", \n",
    "                              'v25': \"Have you smoked before?\", \n",
    "                              'v26': \"How long have you abstained from smoking?\", \n",
    "                              'v27': \"How many cigarettes do you smoke on average per day?\", \n",
    "                              'v28': \"Have you ever had at least one alcoholic drink?\", \n",
    "                              'v29x': \"On how many days per week during the last month, on average, did you drink at least one alcoholic drink?\", \n",
    "                              'v30x': \"How many standard units of drinks on average per day did you drink on those days?\", \n",
    "                              'v31_r': \"In the last 30 days, did you drink at least 5 glasses or cans of alcohol on one occasion?\", \n",
    "                              'v32_r': \"How many times did you do this in the last 30 days?\",\n",
    "                              'v33_r': \"In the last 30 days, did you drink so much and exhibited signs or drunkenness, such as flushed face or reddened eyes, slurred or incoherent speech, unsteady feet or staggering gait, vomiting and hangover in the next day?\", \n",
    "                              'v69': \"What is your age?\", \n",
    "                              'v70': \"What is your highest educational attainment?\",\n",
    "                              'v71': \"What is your marital status?\",\n",
    "                              'v72': \"Are you currently engaged in a job?\",\n",
    "                              'v73': \"What is your occupation?\",\n",
    "                              'v74': \"Are you a ... (if not employed)\",\n",
    "                              'v75': \"How much is your monthly personal income including all the income?\",\n",
    "                              'v76': \"How much is your monthly household income including all the income?\",\n",
    "                              'v77': \"How many ‘dependents’ do you currently have?\",\n",
    "                              'v78': \"What is your type of living quarter?\",\n",
    "                              \"v79\": \"How many people are living in this household, including yourself but excluding live-in maids?\"})"
   ]
  },
  {
   "cell_type": "code",
   "execution_count": null,
   "id": "59cbebcc",
   "metadata": {},
   "outputs": [],
   "source": [
    "d2010 = d2010.drop(columns=['v34_r'])\n",
    "d2010[\"What is your occupation?\"] = d2010[\"What is your occupation?\"].map(arg=occupation_map)"
   ]
  },
  {
   "cell_type": "code",
   "execution_count": null,
   "id": "826749bb",
   "metadata": {},
   "outputs": [],
   "source": [
    "d2012 = d2012.rename(columns={\"v3\": \"sex\", 'v4x': \"What is your height without wearing shoes? (cm)\", \n",
    "                              'v5x': \"What is your weight wearing simple clothes? (kg)\", \n",
    "                              'v6x': \"What is your waist circumference? (cm)\",\n",
    "                              'v7': \"During the past 12 months, have you tried to do something deliberately to control your weight, for example, to lose, maintain or gain weight?\", \n",
    "                              'v8': \"Taking medications or products for weight control, including health food?\", \n",
    "                              'v9': \"Consulting doctors or dietitians?\", \n",
    "                              'v10': \"Going to weight control or beauty parlours?\", \n",
    "                              'v11': \"Doing physical exercises?\",\n",
    "                              'v12': \"Changing dietary habit?\", \n",
    "                              'v13': \" Any other methods?\", \n",
    "                              'v14_r': \"What do you think about your current weight?\",\n",
    "                              'v15': \"During the last 7 days, on how many days did you do vigorous physical activities?\", \n",
    "                              'v16': \"On those days that you have performed vigorous physical activities for at least 10 minutes, how much time on average per day did you usually spend on doing vigorous physical activities? (minutes)\", \n",
    "                              'v17': \"During the last 7 days, on how many days did you do moderate physical activities?\",\n",
    "                              'v18': \"On those days that you have performed moderate physical activities for at least 10 minutes, how much time on average per day did you usually spend on doing moderate physical activities? (minutes)\", \n",
    "                              'v19': \"During the last 7 days, on how many days did you walk for at least 10 minutes at a time?\", \n",
    "                              'v20': \"On those days that you have walked for at least 10 minutes at a time, how much time on average did you usually spend on walking in one of those days? (minutes)\", \n",
    "                              'v21': \"During the last 7 days, how much time on average did you usually spend on sitting on a weekday? (minutes)\", \n",
    "                              'v22': \"During the past 30 days, how often did you exercise in your leisure time, which at least made you breathe somewhat harder than normal and sweat?\", \n",
    "                              'v23': \"On average, how many days do you eat fruit each week?\", \n",
    "                              'v24': \"On average, how many fruit did you eat on one of those days?\", \n",
    "                              'v25': \"On average, how many days do you eat vegetables each week?\", \n",
    "                              'v26': \"On average, how many bowls of cooked vegetables did you eat on one of those days?\",\n",
    "                              'v27': \"On average, how many days do you drink at least one cup of fruit or vegetable juice each week?\", \n",
    "                              'v28': \"Have you smoked before?\", \n",
    "                              'v29': \"How long have you abstained from smoking?\", \n",
    "                              'v30': \"How many cigarettes do you smoke on average per day?\", \n",
    "                              'v31': \"Have you ever had at least one alcoholic drink?\", \n",
    "                              'v32x': \"On how many days per week during the last month, on average, did you drink at least one alcoholic drink?\", \n",
    "                              'v33x': \"How many standard units of drinks on average per day did you drink on those days?\", \n",
    "                              'v34_r': \"In the last 30 days, did you drink at least 5 glasses or cans of alcohol on one occasion?\", \n",
    "                              'v35_r': \"How many times did you do this in the last 30 days?\",\n",
    "                              'v36_r': \"In the last 30 days, did you drink so much and exhibited signs or drunkenness, such as flushed face or reddened eyes, slurred or incoherent speech, unsteady feet or staggering gait, vomiting and hangover in the next day?\", \n",
    "                              'v38': \"In the last 12 months, but excluding the last 30 days, when you drink, did you drink at least 5 glasses or cans of alcohol on one occasion?\", \n",
    "                              'v39': \"In the last 12 months, but excluding the last 30 days, how often did you do this?\", \n",
    "                              'v40': \"In the last 12 months, did you have the following problem(s) or condition(s) which was/were caused by your own drinking? - Being physically hurt\",\n",
    "                              'v41': \"In the last 12 months, did you have the following problem(s) or condition(s) which was/were caused by your own drinking? - Road traffic accidents\", \n",
    "                              'v42': \"In the last 12 months, did you have the following problem(s) or condition(s) which was/were caused by your own drinking? - Family or marriage problem\", \n",
    "                              'v43': \"In the last 12 months, did you have the following problem(s) or condition(s) which was/were caused by your own drinking? - Job or work problem\", \n",
    "                              'v44': \"In the last 12 months, did you have the following problem(s) or condition(s) which was/were caused by your own drinking? - Being sexually harassed\", \n",
    "                              'v45': \"In the last 12 months, did you have the following problem(s) or condition(s) because of someone else's drinking? - Being physically hurt\", \n",
    "                              'v46': \"In the last 12 months, did you have the following problem(s) or condition(s) because of someone else's drinking? - Road traffic accidents\", \n",
    "                              'v47': \"In the last 12 months, did you have the following problem(s) or condition(s) because of someone else's drinking? - Family or marriage problem\", \n",
    "                              'v48': \"In the last 12 months, did you have the following problem(s) or condition(s) because of someone else's drinking? - Job or work problem\", \n",
    "                              'v49': \"In the last 12 months, did you have the following problem(s) or condition(s) because of someone else's drinking? - Being sexually harassed\",\n",
    "                              'v70': \"What is your age?\", \n",
    "                              'v71': \"What is your highest educational attainment?\",\n",
    "                              'v72': \"What is your marital status?\",\n",
    "                              'v73': \"Are you currently engaged in a job?\",\n",
    "                              'v74': \"What is your occupation?\",\n",
    "                              'v75': \"Are you a ... (if not employed)\",\n",
    "                              'v76': \"How much is your monthly personal income including all the income?\",\n",
    "                              'v77': \"How much is your monthly household income including all the income?\",\n",
    "                              'v78': \"What is your type of living quarter?\"})"
   ]
  },
  {
   "cell_type": "code",
   "execution_count": null,
   "id": "4207d21e",
   "metadata": {},
   "outputs": [],
   "source": [
    "d2012 = d2012.drop(columns=[\"v37_r\"])"
   ]
  },
  {
   "cell_type": "code",
   "execution_count": null,
   "id": "9cf896f3",
   "metadata": {},
   "outputs": [],
   "source": [
    "d2014 = d2014.rename(columns={\"v3\": \"sex\", 'v4x': \"What is your height without wearing shoes? (cm)\", \n",
    "                              'v5x': \"What is your weight wearing simple clothes? (kg)\", \n",
    "                              'v6x': \"What is your waist circumference? (cm)\",\n",
    "                              'v7_r': \"What do you think about your current weight?\",\n",
    "                              'v8': \"During the last 7 days, on how many days did you do vigorous physical activities?\", \n",
    "                              'v9': \"On those days that you have performed vigorous physical activities for at least 10 minutes, how much time on average per day did you usually spend on doing vigorous physical activities? (minutes)\", \n",
    "                              'v10': \"During the last 7 days, on how many days did you do moderate physical activities?\",\n",
    "                              'v11': \"On those days that you have performed moderate physical activities for at least 10 minutes, how much time on average per day did you usually spend on doing moderate physical activities? (minutes)\", \n",
    "                              'v12': \"During the last 7 days, on how many days did you walk for at least 10 minutes at a time?\", \n",
    "                              'v13': \"On those days that you have walked for at least 10 minutes at a time, how much time on average did you usually spend on walking in one of those days? (minutes)\", \n",
    "                              'v14': \"During the last 7 days, how much time on average did you usually spend on sitting on a weekday? (minutes)\", \n",
    "                              'v15': \"During the past 30 days, how often did you exercise in your leisure time, which at least made you breathe somewhat harder than normal and sweat?\", \n",
    "                              'v16': \"On average, how many days do you eat fruit each week?\", \n",
    "                              'v17': \"On average, how many fruit did you eat on one of those days?\", \n",
    "                              'v18': \"On average, how many days do you eat vegetables each week?\", \n",
    "                              'v19': \"On average, how many bowls of cooked vegetables did you eat on one of those days?\",\n",
    "                              'v20': \"On average, how many days do you drink at least one cup of fruit or vegetable juice each week?\", \n",
    "                              'v21': \"Have you smoked before?\", \n",
    "                              'v22': \"How long have you abstained from smoking?\", \n",
    "                              'v23': \"How many cigarettes do you smoke on average per day?\", \n",
    "                              'v24': \"Have you ever had at least one alcoholic drink?\", \n",
    "                              'v25x': \"On how many days per week during the last month, on average, did you drink at least one alcoholic drink?\", \n",
    "                              \"v26_r\": \"On a typical day when you are drinking, what type of drinks containing alcohol do you have?\",\n",
    "                              'v27x': \"How many standard units of drinks on average per day did you drink on those days?\", \n",
    "                              'v28x': \"How many times did you do this in the last 30 days?\",\n",
    "                              'v29': \"Have you or someone else been injured because of your drinking?\",\n",
    "                              'v57': \"What is your age?\", \n",
    "                              'v58': \"What is your highest educational attainment?\",\n",
    "                              'v59': \"What is your marital status?\",\n",
    "                              'v60': \"Are you currently engaged in a job?\",\n",
    "                              'v61': \"What is your occupation?\",\n",
    "                              'v62': \"Are you a ... (if not employed)\",\n",
    "                              'v63': \"How much is your monthly personal income including all the income?\",\n",
    "                              'v64': \"How much is your monthly household income including all the income?\",\n",
    "                              'v65': \"What is your type of living quarter?\"})"
   ]
  },
  {
   "cell_type": "markdown",
   "id": "d692166f",
   "metadata": {},
   "source": [
    "For education in 2014 and 2016, there was a need to update key-value pairs as it was different than previous years. On top of that, number 3 was a combination of previous years answers 3 and 4. We first updated the reference, changed number 3 to None, imputed with a model (with a min of 3 and max of 4 because these were the only possible options number 3 refered to), rounded the result so it'll be equal to either 3.0 or 4.0, and finally cast the result as int."
   ]
  },
  {
   "cell_type": "code",
   "execution_count": null,
   "id": "ea3102be",
   "metadata": {},
   "outputs": [],
   "source": [
    "alc_map = {97: 0, 997: 0, 10: 1, 9: 2, 8: 3, 7: 4, 6: 5, 5: 6, 4: 7, 3: 8, 2: 8, 1: 8, 77: 77, 98: 98, 99: 99}\n",
    "d2014[\"On how many days per week during the last month, on average, did you drink at least one alcoholic drink?\"] = d2014[\"On how many days per week during the last month, on average, did you drink at least one alcoholic drink?\"].map(arg=alc_map)\n",
    "d2014[\"What is your highest educational attainment?\"] = d2014[\"What is your highest educational attainment?\"].map(arg={1:2, 2:2, 4:5, 5:6})"
   ]
  },
  {
   "cell_type": "code",
   "execution_count": null,
   "id": "0f639647",
   "metadata": {},
   "outputs": [],
   "source": [
    "num_col = d2014.select_dtypes(include = \"number\").columns\n",
    "d2014.loc[d2014[\"What is your highest educational attainment?\"] == 3, \"What is your highest educational attainment?\"] = None\n",
    "iter_imput = IterativeImputer(min_value=3, max_value=4)\n",
    "d2014[num_col] = iter_imput.fit_transform(d2014[num_col])\n",
    "d2014[\"What is your highest educational attainment?\"].round(0)\n",
    "d2014[\"What is your highest educational attainment?\"] = d2014[\"What is your highest educational attainment?\"].astype(int)"
   ]
  },
  {
   "cell_type": "code",
   "execution_count": null,
   "id": "97f7dc79",
   "metadata": {},
   "outputs": [],
   "source": [
    "d2016 = d2016.rename(columns={\"v3\": \"sex\", 'v4x': \"What is your height without wearing shoes? (cm)\", \n",
    "                              'v5x': \"What is your weight wearing simple clothes? (kg)\", \n",
    "                              'v6x': \"What is your waist circumference? (cm)\",\n",
    "                              'v7_r': \"What do you think about your current weight?\",\n",
    "                              'v8': \"During the last 7 days, on how many days did you do vigorous physical activities?\", \n",
    "                              'v9': \"On those days that you have performed vigorous physical activities for at least 10 minutes, how much time on average per day did you usually spend on doing vigorous physical activities? (minutes)\", \n",
    "                              'v10': \"During the last 7 days, on how many days did you do moderate physical activities?\",\n",
    "                              'v11': \"On those days that you have performed moderate physical activities for at least 10 minutes, how much time on average per day did you usually spend on doing moderate physical activities? (minutes)\", \n",
    "                              'v12': \"During the last 7 days, on how many days did you walk for at least 10 minutes at a time?\", \n",
    "                              'v13': \"On those days that you have walked for at least 10 minutes at a time, how much time on average did you usually spend on walking in one of those days? (minutes)\", \n",
    "                              'v14': \"During the last 7 days, how much time on average did you usually spend on sitting on a weekday? (minutes)\", \n",
    "                              'v15': \"During the past 30 days, how often did you exercise in your leisure time, which at least made you breathe somewhat harder than normal and sweat?\", \n",
    "                              'v16': \"On average, how many days do you eat fruit each week?\", \n",
    "                              'v17': \"On average, how many fruit did you eat on one of those days?\", \n",
    "                              'v18': \"On average, how many days do you eat vegetables each week?\", \n",
    "                              'v19': \"On average, how many bowls of cooked vegetables did you eat on one of those days?\",\n",
    "                              'v20': \"On average, how many days do you drink at least one cup of fruit or vegetable juice each week?\", \n",
    "                              'v26': \"Have you smoked before?\", \n",
    "                              'v27': \"How long have you abstained from smoking?\", \n",
    "                              'v28': \"How many cigarettes do you smoke on average per day?\", \n",
    "                              \"v29\": \"In the next 6 months, are you planning to quit smoking or smoke less?\",\n",
    "                              'v30': \"Have you ever had at least one alcoholic drink?\", \n",
    "                              \"v31\": \" In the next 6 months, will you have a drink containing alcohol?\",\n",
    "                              'v32x': \"On how many days per week during the last month, on average, did you drink at least one alcoholic drink?\", \n",
    "                              \"v33_r\": \"On a typical day when you are drinking, what type of drinks containing alcohol do you have?\",\n",
    "                              'v34x': \"How many standard units of drinks on average per day did you drink on those days?\", \n",
    "                              'v35x': \"How many times did you do this in the last 30 days?\",\n",
    "                              \"v36_r\": \"In the next 6 months, are you planning to change your drinking habit?\",\n",
    "                              'v54': \"What is your age?\", \n",
    "                              'v55': \"What is your highest educational attainment?\",\n",
    "                              'v56': \"What is your marital status?\",\n",
    "                              'v57': \"Are you currently engaged in a job?\",\n",
    "                              'v58': \"What is your occupation?\",\n",
    "                              'v59': \"Are you a ... (if not employed)\",\n",
    "                              'v60': \"How much is your monthly personal income including all the income?\",\n",
    "                              'v61': \"How much is your monthly household income including all the income?\",\n",
    "                              'v62': \"What is your type of living quarter?\"})"
   ]
  },
  {
   "cell_type": "code",
   "execution_count": null,
   "id": "fe6be048",
   "metadata": {},
   "outputs": [],
   "source": [
    "d2016[\"On how many days per week during the last month, on average, did you drink at least one alcoholic drink?\"] = d2016[\"On how many days per week during the last month, on average, did you drink at least one alcoholic drink?\"].map(arg=alc_map)\n",
    "d2016[\"What is your highest educational attainment?\"] = d2016[\"What is your highest educational attainment?\"].map(arg={1:1, 2:2, 3:3, 4:5, 5:6})"
   ]
  },
  {
   "cell_type": "code",
   "execution_count": null,
   "id": "adc2f3a4",
   "metadata": {},
   "outputs": [],
   "source": [
    "num_col = d2016.select_dtypes(include = \"number\").columns\n",
    "d2016.loc[d2016[\"What is your highest educational attainment?\"] == 3, \"What is your highest educational attainment?\"] = None\n",
    "iter_imput = IterativeImputer(min_value=3, max_value=4)\n",
    "d2016[num_col] = iter_imput.fit_transform(d2016[num_col])\n",
    "d2016[\"What is your highest educational attainment?\"].round(0)\n",
    "d2016[\"What is your highest educational attainment?\"] = d2016[\"What is your highest educational attainment?\"].astype(int)"
   ]
  },
  {
   "cell_type": "markdown",
   "id": "79f61c3c",
   "metadata": {},
   "source": [
    "Add a new column for the year so it will be easier to process in the combined dataframe"
   ]
  },
  {
   "cell_type": "code",
   "execution_count": null,
   "id": "4e83441c",
   "metadata": {},
   "outputs": [],
   "source": [
    "d2004.insert(0, \"Year\", 2004)\n",
    "d2005.insert(0, \"Year\", 2005)\n",
    "d2006.insert(0, \"Year\", 2006)\n",
    "d2007.insert(0, \"Year\", 2007)\n",
    "d2008.insert(0, \"Year\", 2008)\n",
    "d2009.insert(0, \"Year\", 2009)\n",
    "d2010.insert(0, \"Year\", 2010)\n",
    "d2012.insert(0, \"Year\", 2012)\n",
    "d2014.insert(0, \"Year\", 2014)\n",
    "d2016.insert(0, \"Year\", 2016)"
   ]
  },
  {
   "cell_type": "markdown",
   "id": "5416a68a",
   "metadata": {},
   "source": [
    "Create a single dataframe that includes all the years and all the questions."
   ]
  },
  {
   "cell_type": "code",
   "execution_count": null,
   "id": "4d222695",
   "metadata": {},
   "outputs": [],
   "source": [
    "df = pd.concat([d2004, d2005, d2006, d2007, d2008, d2009, d2010, d2012, d2014, d2016], axis=0, ignore_index=True)"
   ]
  },
  {
   "cell_type": "markdown",
   "id": "646f2dfd",
   "metadata": {},
   "source": [
    "Remove Case number columns and weighting as they are meaningless to us"
   ]
  },
  {
   "cell_type": "code",
   "execution_count": null,
   "id": "4a80df39",
   "metadata": {},
   "outputs": [],
   "source": [
    "df = df.drop(columns=[\"ID\", \"Casenumber\", \"CaseNo\", \"Identifier\", \"weighting\"])"
   ]
  },
  {
   "cell_type": "code",
   "execution_count": null,
   "id": "9b26893a",
   "metadata": {},
   "outputs": [],
   "source": [
    "df.info(verbose=True)"
   ]
  },
  {
   "cell_type": "code",
   "execution_count": null,
   "id": "9732f833",
   "metadata": {},
   "outputs": [],
   "source": [
    "df.describe().T"
   ]
  },
  {
   "cell_type": "code",
   "execution_count": null,
   "id": "239f5e4f",
   "metadata": {},
   "outputs": [],
   "source": [
    "df.isna().sum(axis=0)"
   ]
  },
  {
   "cell_type": "markdown",
   "id": "c379ae75",
   "metadata": {},
   "source": [
    "Dropping all columns that are more than half empty. While we can impute them, this is a very large data set and we can find meaningful information in the columns that appear more often. Even in the reduced df, that includes 40 columns, we will not be processing all the questions."
   ]
  },
  {
   "cell_type": "code",
   "execution_count": null,
   "id": "228b3540",
   "metadata": {},
   "outputs": [],
   "source": [
    "df = df.dropna(axis=1, thresh=12427)"
   ]
  },
  {
   "cell_type": "markdown",
   "id": "9cd7a3dd",
   "metadata": {},
   "source": [
    "Fill empty value with median.\n",
    "Median is chosen as there are outliers we wish to keep. People not wanteing to share personal information can also be revealing."
   ]
  },
  {
   "cell_type": "code",
   "execution_count": null,
   "id": "73b8d4a7",
   "metadata": {},
   "outputs": [],
   "source": [
    "col = df.select_dtypes(include = \"number\").columns\n",
    "df[col] = df[col].fillna(df[col].median())"
   ]
  },
  {
   "cell_type": "code",
   "execution_count": null,
   "id": "238163e0",
   "metadata": {},
   "outputs": [],
   "source": [
    "df.info(verbose=True)"
   ]
  },
  {
   "cell_type": "markdown",
   "id": "906fa85f",
   "metadata": {},
   "source": [
    "### Summary"
   ]
  },
  {
   "cell_type": "markdown",
   "id": "ee0c3add",
   "metadata": {},
   "source": [
    "While the data appear to be ready for processing in fact there are a lot of differences between the years. Some questions number refer to different questions, some of the key-value pairs are different or some keys refer to different values. EDA was very helpful in identifying some of these issues.\n",
    ".duplicated().value_counts() revealed that the data sets don't have any duplicate records (not shown).\n",
    ".duplicated().value_counts() revealed that 2014 and 2016 have about 2,000 more records each (not shown).\n",
    "After combining the differet data sets into one, and dropping the columns that were at lease half empty, we have a data set with 40 attribues and 24,855 records."
   ]
  },
  {
   "cell_type": "markdown",
   "id": "cbb6a3ad",
   "metadata": {},
   "source": [
    " "
   ]
  },
  {
   "cell_type": "markdown",
   "id": "2e42cb6d",
   "metadata": {},
   "source": [
    "# Add columns with mapped values"
   ]
  },
  {
   "cell_type": "markdown",
   "id": "d0b5a31e",
   "metadata": {},
   "source": [
    "Much of the information in the data set is categorical. It is more meaningful to convert the number key into their text values which is done in the following section using map and cut. .value_counts() and .value_counts().sum() were used to ensure all values were maped (not shown)."
   ]
  },
  {
   "cell_type": "markdown",
   "id": "da247090",
   "metadata": {},
   "source": [
    "## General / personal information"
   ]
  },
  {
   "cell_type": "code",
   "execution_count": null,
   "id": "6c99398a",
   "metadata": {},
   "outputs": [],
   "source": [
    "df[\"Gender\"] = df[\"sex\"].map(arg={1: \"Male\", 2: \"Female\"})"
   ]
  },
  {
   "cell_type": "code",
   "execution_count": null,
   "id": "5ecd671d",
   "metadata": {},
   "outputs": [],
   "source": [
    "df[\"Age_cat\"] = pd.cut(df[\"What is your age?\"], bins=[0, 29, 39, 49, 59, 69, 79, 89, 98, df[\"What is your age?\"].max()],\n",
    "                      labels=[\"18-29\", \"30-39\", \"40-49\", \"50-59\", \"60-69\", \"70-79\", \"80-89\", \"90-98\", \"No answer\"])"
   ]
  },
  {
   "cell_type": "code",
   "execution_count": null,
   "id": "9b827005",
   "metadata": {},
   "outputs": [],
   "source": [
    "ed_map = {1: \"Primary or below\", 2: \"Had not completed secondary\", 3: \"Completed secondary\",\n",
    "          4: \"Matriculation\", 5: \"Tertiary (non-degree / degree or above)\", 6: \"Refuse to answer\",\n",
    "          99: \"Refuse to answer\", 999: \"Refuse to answer\"}\n",
    "df[\"Education\"] = df[\"What is your highest educational attainment?\"].map(arg=ed_map)"
   ]
  },
  {
   "cell_type": "code",
   "execution_count": null,
   "id": "fa73a650",
   "metadata": {},
   "outputs": [],
   "source": [
    "df[\"Occupation\"] = df[\"What is your occupation?\"].map(arg={0: \"Not applicable\", 997: \"Not applicable\", 77: \"Not applicable\",\n",
    "                                                       1: \"Employers / Managers / Administrator\",\n",
    "                                                       2: \"Professional\", 3: \"Associate Professional\", 4: \"Clerk\",\n",
    "                                                       5: \"Service worker\", 6: \"Shop sales worker\",\n",
    "                                                       7: \"Skilled agricultural / fishery worker\",\n",
    "                                                       8: \"Craft and related worker\", 9: \"Plant and machine operator and assembler\",\n",
    "                                                       10: \"Un-skilled worker\", 11: \"Refuse to answer\", 99: \"Refuse to answer\",\n",
    "                                                      11: \"Refuse to answer\", 999: \"Refuse to answer\", 12: \"Other\"})"
   ]
  },
  {
   "cell_type": "code",
   "execution_count": null,
   "id": "f290c011",
   "metadata": {},
   "outputs": [],
   "source": [
    "df[\"Occupation else\"] = df[\"Are you a ... (if not employed)\"].map(arg={0: \"Not applicable\", 77: \"Not applicable\",1: \"Student\", 2: \"Home-maker\",\n",
    "                                                                       3: \"Unemployed person\", 4: \"Retired person\",\n",
    "                                                                       5: \"Others\", 99: \"Refuse to answer\", 999: \"Refuse to answer\",\n",
    "                                                                       6: \"Refuse to answer\", 98: \"Don't know\", 997: \"Not applicable\"})"
   ]
  },
  {
   "cell_type": "code",
   "execution_count": null,
   "id": "16314a33",
   "metadata": {},
   "outputs": [],
   "source": [
    "income_map = {1: \"No income\", 2: \"$1-1,999\", 3: \"$2,000-3,999\", 4: \"$4,000-5,999\", 5: \"$6,000-7,999\", 6: \"$8,000-9,999\",\n",
    "              7: \"$10,000-11,999\", 8: \"$12,000-13,999\", 9: \"$14,000-15,999\", 10: \"$16,000-17,999\", 11: \"$18,000-19,999\", \n",
    "              12: \"$20,000-24,999\", 13: \"$25,000-29,999\", 14: \"$30,000-34,999\", 15: \"$40,000-44,999\", 16: \"$40,000-44,999\",\n",
    "              17: \"$45,000-49,999\", 18: \"$50,000 or above\", 19: \"Refuse to answer\", 98: \"No fixed income / Don't know\",\n",
    "              99: \"No fixed income / Don't know\", 0: \"Not applicable\", 77: \"Not applicable\", 97: \"Not applicable\", 997: \"Not applicable\"}\n",
    "df[\"Personal income\"] = df[\"How much is your monthly personal income including all the income?\"].map(arg=income_map)"
   ]
  },
  {
   "cell_type": "code",
   "execution_count": null,
   "id": "f1e495a9",
   "metadata": {},
   "outputs": [],
   "source": [
    "h_income_map = {1: \"Less than $2,000\", 2: \"$2,000-3,999\", 3: \"$4,000-5,999\", 4: \"$6,000-7,999\", 5: \"$8,000-9,999\", 6: \"$10,000-11,999\",\n",
    "              7: \"$12,000-13,999\", 8: \"$14,000-15,999\", 9: \"$16,000-17,999\", 10: \"$18,000-19,999\", 11: \"$20,000-24,999\", \n",
    "              12: \"$25,000-29,999\", 13: \"$30,000-34,999\", 14: \"$35,000-39,999\", 15: \"$35,000-39,999\", 16: \"$45,000-49,999\",\n",
    "              17: \"$50,000-54,999\", 18: \"$55,000-59,999\", 19: \"60,000 or above\", 21: \"Refuse to answer\", 20: \"Don't know\",\n",
    "              98: \"No fixed income / Don't know\", 99: \"No fixed income / Don't know\", 0: \"Not applicable\", \n",
    "              77: \"Not applicable\", 97: \"Not applicable\", 997: \"Not applicable\"}\n",
    "df[\"Household income\"] = df[\"How much is your monthly personal income including all the income?\"].map(arg=h_income_map)"
   ]
  },
  {
   "cell_type": "code",
   "execution_count": null,
   "id": "8293e6b1",
   "metadata": {},
   "outputs": [],
   "source": [
    "income_map_num = {1: 0, 2: 1-1999, 3: 2000-3999, 4: 4000-5999, 5: 6000-7999, 6: 8000-9999,\n",
    "              7: 10000-11999, 8: 12000-13999, 9: 14000-15999, 10: 16000-17999, 11: 18000-19999, \n",
    "              12: 20000-24999, 13: 25000-29999, 14: 30000-34999, 15: 35000-39999, 16: 40000-44999,\n",
    "              17: 45000-49999, 18: 50000, 19: \"Refuse to answer\", 98: \"No fixed income / Don't know\",\n",
    "              99: \"No fixed income / Don't know\", 0: \"Not applicable\", 97: \"Not applicable\", 997: \"Not applicable\"}\n",
    "df[\"Personal income num\"] = df[\"How much is your monthly personal income including all the income?\"].map(arg=income_map)"
   ]
  },
  {
   "cell_type": "code",
   "execution_count": null,
   "id": "ebd218b3",
   "metadata": {},
   "outputs": [],
   "source": [
    "income_map_num = {1: 0, 2: 1999, 3: 3999, 4: 5999, 5: 7999, 6: 9999,\n",
    "              7: 11999, 8: 13999, 9: 15999, 10: 17999, 11: 19999, \n",
    "              12: 24999, 13: 29999, 14: 34999, 15: 39999, 16: 44999,\n",
    "              17: 49999, 18: 50000, 19: -10, 98: -10, 77: 0,\n",
    "              99: -10, 0: -10, 97: -10, 997: -10}\n",
    "df[\"Personal income num\"] = df[\"How much is your monthly personal income including all the income?\"].map(arg=income_map_num)"
   ]
  },
  {
   "cell_type": "markdown",
   "id": "04347d4a",
   "metadata": {},
   "source": [
    "## Weight related meassurments"
   ]
  },
  {
   "cell_type": "code",
   "execution_count": null,
   "id": "820ebd1f",
   "metadata": {},
   "outputs": [],
   "source": [
    "def mapfunc(x):\n",
    "    if x == 998 or x== 9998:\n",
    "        return \"Don't know\"\n",
    "    elif x == 999 or x == 9999:\n",
    "        return \"Refuse to answer\"\n",
    "    elif x == 777 or x == 7777 or x == 888:\n",
    "        return \"Outlier\"\n",
    "    else:\n",
    "        return x"
   ]
  },
  {
   "cell_type": "markdown",
   "id": "6553fd2c",
   "metadata": {},
   "source": [
    "Either returns the categorical information or the value itself."
   ]
  },
  {
   "cell_type": "code",
   "execution_count": null,
   "id": "ce18fd78",
   "metadata": {},
   "outputs": [],
   "source": [
    "df[\"Height\"] = df[\"What is your height without wearing shoes? (cm)\"].map(mapfunc)"
   ]
  },
  {
   "cell_type": "code",
   "execution_count": null,
   "id": "967def5f",
   "metadata": {},
   "outputs": [],
   "source": [
    "df[\"Height values\"] = df[\"What is your height without wearing shoes? (cm)\"]"
   ]
  },
  {
   "cell_type": "code",
   "execution_count": null,
   "id": "49394be6",
   "metadata": {},
   "outputs": [],
   "source": [
    "df.loc[df[\"Height values\"] > 200, \"Height values\"] = None"
   ]
  },
  {
   "cell_type": "code",
   "execution_count": null,
   "id": "d499fd45",
   "metadata": {},
   "outputs": [],
   "source": [
    "df[\"Weight values\"] = df[\"What is your weight wearing simple clothes? (kg)\"]"
   ]
  },
  {
   "cell_type": "code",
   "execution_count": null,
   "id": "e434ec84",
   "metadata": {},
   "outputs": [],
   "source": [
    "df.loc[df[\"Weight values\"] > 130, \"Weight values\"] = None"
   ]
  },
  {
   "cell_type": "code",
   "execution_count": null,
   "id": "b515ae9d",
   "metadata": {},
   "outputs": [],
   "source": [
    "df[\"Weight\"] = df[\"What is your weight wearing simple clothes? (kg)\"].map(mapfunc)"
   ]
  },
  {
   "cell_type": "code",
   "execution_count": null,
   "id": "2baf0b40",
   "metadata": {},
   "outputs": [],
   "source": [
    "df[\"Waist\"] = df[\"What is your waist circumference? (cm)\"]\n",
    "df.loc[df[\"Waist\"]<50, \"Waist\"] = None\n",
    "df.loc[df[\"Waist\"]>120, \"Waist\"] = None"
   ]
  },
  {
   "cell_type": "code",
   "execution_count": null,
   "id": "04634f88",
   "metadata": {},
   "outputs": [],
   "source": [
    "df[\"Weight change\"] = df[\"Does your weight now differ by more than 10 pounds (about 4.5Kg) from your weight one year ago?\"].map(lambda x: \"Yes\"  if x==1 else \"No\" if x==2 else \"Don't know\" if x==3 else \"Outlier\" if x==777 or x==7777 else x)"
   ]
  },
  {
   "cell_type": "markdown",
   "id": "dc8d6164",
   "metadata": {},
   "source": [
    "Create a new BMI column"
   ]
  },
  {
   "cell_type": "code",
   "execution_count": null,
   "id": "cb3ea72f",
   "metadata": {},
   "outputs": [],
   "source": [
    "df.insert(3, \"BMI\", df[\"Weight values\"] / ((df[\"Height values\"])/100)**2)"
   ]
  },
  {
   "cell_type": "markdown",
   "id": "e79eadcf",
   "metadata": {},
   "source": [
    "Add a BMI catagory column.\n",
    "BMI range taken from Lim et al, 2017. As the data is from Hong Kong, it was decided to use different meassurment for BMI catagories that is suitable for Asian people."
   ]
  },
  {
   "cell_type": "code",
   "execution_count": null,
   "id": "3febb464",
   "metadata": {},
   "outputs": [],
   "source": [
    "df[\"BMI_cat\"] = pd.cut(df[\"BMI\"], bins=[0, 18.5, 22.9, 24.9, df[\"BMI\"].max()], \n",
    "                      labels=[\"Underweight\", \"Normal\", \"Overweight\", \"Obese\"])"
   ]
  },
  {
   "cell_type": "markdown",
   "id": "fc45fa49",
   "metadata": {},
   "source": [
    "## Nutrition"
   ]
  },
  {
   "cell_type": "code",
   "execution_count": null,
   "id": "8fa7f65c",
   "metadata": {},
   "outputs": [],
   "source": [
    "days_map = {0: \"None\", 1: \"1 day\", 2: \"2 days\", 3: \"3 days\", 4: \"4 days\", 5: \"5 days\", 6: \"6 days\", 7: \"7 days\",\n",
    "           8: \"None\", 98: \"Don’t know\", 998: \"Don’t know\", 99: \"Refuse to answer\",999: \"Refuse to answer\", 7777: \"Outlier\"}\n",
    "days_map_num = {0:0, 1:1, 2:2, 3:3, 4:4, 5:5, 6:6, 7:7, 8:0}"
   ]
  },
  {
   "cell_type": "code",
   "execution_count": null,
   "id": "d550329a",
   "metadata": {},
   "outputs": [],
   "source": [
    "df[\"Vegtables\"] = df[\"On average, how many days do you eat vegetables each week?\"].map(arg=days_map)\n",
    "df[\"Vegtables num\"] = df[\"On average, how many days do you eat vegetables each week?\"].map(arg=days_map_num)"
   ]
  },
  {
   "cell_type": "code",
   "execution_count": null,
   "id": "e5d17b5a",
   "metadata": {},
   "outputs": [],
   "source": [
    "df[\"Fruits\"] = df[\"On average, how many days do you eat fruit each week?\"].map(arg=days_map)\n",
    "df[\"Fruits num\"] = df[\"On average, how many days do you eat fruit each week?\"].map(arg=days_map_num)"
   ]
  },
  {
   "cell_type": "code",
   "execution_count": null,
   "id": "f01dcbba",
   "metadata": {},
   "outputs": [],
   "source": [
    "df[\"Fruits per day\"] = df[\"On average, how many fruit did you eat on one of those days?\"]"
   ]
  },
  {
   "cell_type": "code",
   "execution_count": null,
   "id": "a29c3d13",
   "metadata": {},
   "outputs": [],
   "source": [
    "df[\"Juice\"] = df[\"On average, how many days do you drink at least one cup of fruit or vegetable juice each week?\"].map(arg=days_map)\n",
    "df[\"Juice num\"] = df[\"On average, how many days do you drink at least one cup of fruit or vegetable juice each week?\"].map(arg=days_map_num)"
   ]
  },
  {
   "cell_type": "markdown",
   "id": "58731645",
   "metadata": {},
   "source": [
    "## Alcohol drinking and smoking"
   ]
  },
  {
   "cell_type": "code",
   "execution_count": null,
   "id": "39f2c075",
   "metadata": {},
   "outputs": [],
   "source": [
    "alcohol_map = {0: \"Not applicable\", 97: \"Not applicable\", 997: \"Not applicable\", 1: \"Daily\", 2: \"6 days per week\", 3: \"5 days per week\", 4: \"4 days per week\",\n",
    "               5: \"3 days per week\", 6: \"2 days per week\", 7: \"1 days per week\", 8: \"Less than 1 day per week\",\n",
    "               98: \"Don't know\", 998: \"Don't know\", 99: \"Refuse to answer\",77: \"Outlier\", 777: \"Outlier\",\n",
    "               7777: \"Outlier\", 8888: \"Outlier\", 9: \"Don't know\"}\n",
    "df[\"Drinking days\"] = df[\"On how many days per week during the last month, on average, did you drink at least one alcoholic drink?\"].map(arg=alcohol_map)"
   ]
  },
  {
   "cell_type": "markdown",
   "id": "a7b9118d",
   "metadata": {},
   "source": [
    "Most people don't drink, so it could be interesting to see if we can learn something about those who do"
   ]
  },
  {
   "cell_type": "code",
   "execution_count": null,
   "id": "7f232f46",
   "metadata": {},
   "outputs": [],
   "source": [
    "alcohol_map_num = {1:7, 2:6, 3:5, 4:4, 5:3, 6:2, 7:1, 8:0.5}\n",
    "df[\"Drinking days num\"] = df[\"On how many days per week during the last month, on average, did you drink at least one alcoholic drink?\"].map(arg=alcohol_map_num)"
   ]
  },
  {
   "cell_type": "code",
   "execution_count": null,
   "id": "e60acba2",
   "metadata": {},
   "outputs": [],
   "source": [
    "df[\"Drinking days positive\"] = df[\"On how many days per week during the last month, on average, did you drink at least one alcoholic drink?\"]\n",
    "df.loc[df[\"Drinking days positive\"]<1, \"Drinking days positive\"] = None\n",
    "df.loc[df[\"Drinking days positive\"]>8, \"Drinking days positive\"] = None\n",
    "df[\"Drinking days positive\"] = df[\"Drinking days positive\"].map(arg=alcohol_map_num)"
   ]
  },
  {
   "cell_type": "code",
   "execution_count": null,
   "id": "4b1e2507",
   "metadata": {},
   "outputs": [],
   "source": [
    "df[\"Smoking\"] = df[\"Have you smoked before?\"].map(arg={1: \"Yes, but not now\", 2: \"Yes, and still smoking\", 3: \"Never\",\n",
    "                                                       98: \"Don’t know\", 99: \"Refuse to answer\"})"
   ]
  },
  {
   "cell_type": "code",
   "execution_count": null,
   "id": "a938c028",
   "metadata": {},
   "outputs": [],
   "source": [
    "df[\"Abstained\"] = df[\"How long have you abstained from smoking?\"].map(arg={0: \"Not applicable\", 1: \"Had abstained for less than 1 month\",\n",
    "                                                                           2: \"Had abstained for 1 month to 1 year\",\n",
    "                                                                           3: \"Had abstained for more than 1 year\",\n",
    "                                                                          98: \"Don’t know\", 99: \"Refuse to answer\", 997: \"Not applicable\",\n",
    "                                                                          96: \"Don’t know\", 97: \"Not applicable\"})"
   ]
  },
  {
   "cell_type": "markdown",
   "id": "d783d615",
   "metadata": {},
   "source": [
    "While it appears in the answers, there were no 96 and 97 keys in the files. 97 got the value of \"Not applicable\", as in other keys 97 and 997 have the same values. 96 got the value of \"Don’t know\", as there were no values for 98 so it's possible it was a typo."
   ]
  },
  {
   "cell_type": "code",
   "execution_count": null,
   "id": "c0f7c3ef",
   "metadata": {},
   "outputs": [],
   "source": [
    "df[\"Cigarettes\"] = df[\"How many cigarettes do you smoke on average per day?\"].map(arg={0: \"Not applicable\", 1: \"Less than 1 cigarette per day now\",\n",
    "                                                                           2: \"1-10 cigarettes per day now\", 3: \"11-20 cigarettes per day now\",\n",
    "                                                                           4: \"More than 20 cigarettes per day now\", 998: \"Don’t know\",\n",
    "                                                                           96:\"Not applicable\", 97: \"Not applicable\",\n",
    "                                                                           98: \"Don’t know\", 99: \"Refuse to answer\", 997: \"Not applicable\"})"
   ]
  },
  {
   "cell_type": "markdown",
   "id": "140b17d5",
   "metadata": {},
   "source": [
    "## Physical activities"
   ]
  },
  {
   "cell_type": "code",
   "execution_count": null,
   "id": "a3265074",
   "metadata": {},
   "outputs": [],
   "source": [
    "exercise_map = {1: \"Once or more a day\", 2: \"4-6 times / week\", 3: \"2-3 times / week\", 4: \"Once a week\", 5: \"2-3 times a month\",\n",
    "  6: \"Once a month\", 7: \"Less than once a month\", 98: \"Don't know\", 99: \"Refuse to answer\"}\n",
    "df[\"Moderate exercise\"] = df[\"During the last 7 days, on how many days did you do moderate physical activities?\"].map(arg=exercise_map)"
   ]
  },
  {
   "cell_type": "code",
   "execution_count": null,
   "id": "5efa428e",
   "metadata": {},
   "outputs": [],
   "source": [
    "df[\"Walk\"] = df[\"During the last 7 days, on how many days did you walk for at least 10 minutes at a time?\"].map(arg={\n",
    "    0:0, 1:1, 2:2, 3:3, 4:4, 5:5, 6:6, 7:7, 98: \"Don't know\", 998: \"Don't know\",99: \"Refuse to answer\"})"
   ]
  },
  {
   "cell_type": "markdown",
   "id": "7fb70718",
   "metadata": {},
   "source": [
    "### Summary"
   ]
  },
  {
   "cell_type": "markdown",
   "id": "c5ffde6b",
   "metadata": {},
   "source": [
    "Most of the data is ccategorical so coulmns were added with shorter names and proper values for variables we'd like to investigate"
   ]
  },
  {
   "cell_type": "markdown",
   "id": "ab5c11a3",
   "metadata": {},
   "source": [
    " "
   ]
  },
  {
   "cell_type": "markdown",
   "id": "0f3f9f0d",
   "metadata": {},
   "source": [
    "# EDA"
   ]
  },
  {
   "cell_type": "markdown",
   "id": "81a2f91b",
   "metadata": {},
   "source": [
    "### Pie Charts"
   ]
  },
  {
   "cell_type": "markdown",
   "id": "a6bf6687",
   "metadata": {},
   "source": [
    "Pie charts to check how variables are spread (McKinney, 2021)"
   ]
  },
  {
   "cell_type": "code",
   "execution_count": null,
   "id": "44bd355e",
   "metadata": {},
   "outputs": [],
   "source": [
    "df[\"Gender\"].value_counts().plot(kind=\"pie\", autopct='%1.1f%%', shadow=True, title=\"Gender\", ylabel=\"\")\n",
    "plt.show()"
   ]
  },
  {
   "cell_type": "code",
   "execution_count": null,
   "id": "8e864ffa",
   "metadata": {},
   "outputs": [],
   "source": [
    "agepie = df[\"Age_cat\"].value_counts().plot(kind=\"pie\", autopct='%1.1f%%', shadow=True, legend=True, title=\"Age\", ylabel='', labeldistance=None)\n",
    "agepie.legend(bbox_to_anchor=(1, 1.02), loc='upper left')\n",
    "plt.show()"
   ]
  },
  {
   "cell_type": "code",
   "execution_count": null,
   "id": "be2f0439",
   "metadata": {},
   "outputs": [],
   "source": [
    "adpie = df[\"Education\"].value_counts().plot(kind=\"pie\", autopct='%1.1f%%', shadow=True, legend=True, title=\"Education Level\", ylabel='', labeldistance=None)\n",
    "adpie.legend(bbox_to_anchor=(1, 1.02), loc='upper left')\n",
    "plt.show()"
   ]
  },
  {
   "cell_type": "code",
   "execution_count": null,
   "id": "a41d6f2e",
   "metadata": {},
   "outputs": [],
   "source": [
    "occpie = df[\"Occupation\"].value_counts().plot(kind=\"pie\", autopct='%1.1f%%', shadow=True, legend=True, title=\"Occupation\", ylabel='', labeldistance=None)\n",
    "occpie.legend(bbox_to_anchor=(1, 1.02), loc='upper left')\n",
    "plt.show()"
   ]
  },
  {
   "cell_type": "markdown",
   "id": "206e6fed",
   "metadata": {},
   "source": [
    "As we see, almost 41% are unemployed. We will seperate them into 2 groups, employed and unemployed. In the below pie chart they are removed for a clearer picture of those who are curently employed."
   ]
  },
  {
   "cell_type": "code",
   "execution_count": null,
   "id": "3e8ce299",
   "metadata": {},
   "outputs": [],
   "source": [
    "df[\"Occupation employed\"] = df[\"Occupation\"]\n",
    "df.loc[df[\"Occupation employed\"] == \"Not applicable\", \"Occupation employed\"] = None\n",
    "\n",
    "occpiec = df[\"Occupation employed\"].value_counts().plot(kind=\"pie\", autopct='%1.1f%%', shadow=True, legend=True, title=\"Occupation of those currently employed\", ylabel='', labeldistance=None)\n",
    "occpiec.legend(bbox_to_anchor=(1, 1.02), loc='upper left')\n",
    "plt.show()"
   ]
  },
  {
   "cell_type": "code",
   "execution_count": null,
   "id": "0588ddf7",
   "metadata": {},
   "outputs": [],
   "source": [
    "unoccpie = df[\"Occupation else\"].value_counts().plot(kind=\"pie\", autopct='%1.1f%%', shadow=True, legend=True, title=\"Curently unemployed (including those employed)\", ylabel='', labeldistance=None)\n",
    "unoccpie.legend(bbox_to_anchor=(1, 1.02), loc='upper left')\n",
    "plt.show()"
   ]
  },
  {
   "cell_type": "markdown",
   "id": "ca20ff9f",
   "metadata": {},
   "source": [
    "There are 11096 \"Not applicable\" responses (~59%), meaning those curently employed. In the below pie chart they are removed for a clearer picture of those who are curently unemployed"
   ]
  },
  {
   "cell_type": "code",
   "execution_count": null,
   "id": "8be5d17c",
   "metadata": {},
   "outputs": [],
   "source": [
    "df[\"Occupation else - unemployed\"] = df[\"Occupation else\"]\n",
    "df.loc[df[\"Occupation else - unemployed\"] == \"Not applicable\", \"Occupation else - unemployed\"] = None\n",
    "\n",
    "unoccpiec = df[\"Occupation else - unemployed\"].value_counts().plot(kind=\"pie\", autopct='%1.1f%%', shadow=True, legend=True, title=\"Curently unemployed\", ylabel='', labeldistance=None)\n",
    "unoccpiec.legend(bbox_to_anchor=(1, 1.02), loc='upper left')\n",
    "plt.show()"
   ]
  },
  {
   "cell_type": "code",
   "execution_count": null,
   "id": "ee4b45de",
   "metadata": {},
   "outputs": [],
   "source": [
    "agepie = df[\"Personal income\"].value_counts().plot(kind=\"pie\", autopct='%1.1f%%', shadow=True, legend=True, title=\"Personal income\", ylabel='', labeldistance=None)\n",
    "agepie.legend(bbox_to_anchor=(1, 1.02), loc='upper left')\n",
    "plt.show()"
   ]
  },
  {
   "cell_type": "code",
   "execution_count": null,
   "id": "c02e1672",
   "metadata": {},
   "outputs": [],
   "source": [
    "agepie = df[\"Household income\"].value_counts().plot(kind=\"pie\", autopct='%1.1f%%', shadow=True, legend=True, title=\"Household income\", ylabel='', labeldistance=None)\n",
    "agepie.legend(bbox_to_anchor=(1, 1.02), loc='upper left')\n",
    "plt.show()"
   ]
  },
  {
   "cell_type": "markdown",
   "id": "ca4ba63f",
   "metadata": {},
   "source": [
    "Personal and household income is very similar. We can see that the share of \"Not applicable\" is smaller than the share of unemployed, so while unemployed, some still have an income."
   ]
  },
  {
   "cell_type": "code",
   "execution_count": null,
   "id": "6babeb9e",
   "metadata": {},
   "outputs": [],
   "source": [
    "df[\"What is your marital status?\"] = df[\"What is your marital status?\"].map(arg={1: \"Never married\", 2: \"Married and with child\", 3: \"Married and without child\", \n",
    "                                            4: \"Divorced or Separated\", 5: \"Widowed\", 6: \"Refuse to answer\"})\n",
    "\n",
    "maritalpie = df[\"What is your marital status?\"].value_counts().plot(kind=\"pie\", autopct='%1.1f%%', shadow=True, legend=True, title=\"Marital Status?\", ylabel='', labeldistance=None)\n",
    "maritalpie.legend(bbox_to_anchor=(1, 1.02), loc='upper left')\n",
    "plt.show()"
   ]
  },
  {
   "cell_type": "markdown",
   "id": "3244cdb5",
   "metadata": {},
   "source": [
    "Not much change in weight and height over the years"
   ]
  },
  {
   "cell_type": "code",
   "execution_count": null,
   "id": "687de460",
   "metadata": {},
   "outputs": [],
   "source": [
    "maritalpie = df[\"BMI_cat\"].value_counts().plot(kind=\"pie\", autopct='%1.1f%%', shadow=True, legend=True, title=\"BMI catagories\", ylabel='', labeldistance=None)\n",
    "maritalpie.legend(bbox_to_anchor=(1, 1.02), loc='upper left')\n",
    "plt.show()"
   ]
  },
  {
   "cell_type": "markdown",
   "id": "94b91495",
   "metadata": {},
   "source": [
    "Half have a normal BMI, while 40% are overweight or obese according to their BMI which is an inaccurate yet easy meassurement. These numbers are better than found by the Department of Health Population Health Survey of 2020-22 (CHP, 2023)."
   ]
  },
  {
   "cell_type": "code",
   "execution_count": null,
   "id": "b5d54135",
   "metadata": {},
   "outputs": [],
   "source": [
    "maritalpie = df[\"Vegtables\"].value_counts().plot(kind=\"pie\", autopct='%1.1f%%', shadow=True, legend=True, title=\"Eating Vegtables\", ylabel='', labeldistance=None)\n",
    "maritalpie.legend(bbox_to_anchor=(1, 1.02), loc='upper left')\n",
    "plt.show()"
   ]
  },
  {
   "cell_type": "code",
   "execution_count": null,
   "id": "f4fc2cc0",
   "metadata": {},
   "outputs": [],
   "source": [
    "maritalpie = df[\"Fruits\"].value_counts().plot(kind=\"pie\", autopct='%1.1f%%', shadow=True, legend=True, title=\"Eating Fruits\", ylabel='', labeldistance=None)\n",
    "maritalpie.legend(bbox_to_anchor=(1, 1.02), loc='upper left')\n",
    "plt.show()"
   ]
  },
  {
   "cell_type": "code",
   "execution_count": null,
   "id": "93f2a473",
   "metadata": {},
   "outputs": [],
   "source": [
    "maritalpie = df[\"Juice\"].value_counts().plot(kind=\"pie\", autopct='%1.1f%%', shadow=True, legend=True, title=\"Drinking Vegtable or Fruit Juice\", ylabel='', labeldistance=None)\n",
    "maritalpie.legend(bbox_to_anchor=(1, 1.02), loc='upper left')\n",
    "plt.show()"
   ]
  },
  {
   "cell_type": "code",
   "execution_count": null,
   "id": "0e2b36a6",
   "metadata": {},
   "outputs": [],
   "source": [
    "maritalpie = df[\"Juice\"].value_counts().plot(kind=\"pie\", autopct='%1.1f%%', shadow=True, legend=True, title=\"Drinking Vegtable or Fruit Juice\", ylabel='', labeldistance=None)\n",
    "maritalpie.legend(bbox_to_anchor=(1, 1.02), loc='upper left')\n",
    "plt.show()"
   ]
  },
  {
   "cell_type": "code",
   "execution_count": null,
   "id": "30d61cc5",
   "metadata": {},
   "outputs": [],
   "source": [
    "maritalpie = df[\"Smoking\"].value_counts().plot(kind=\"pie\", autopct='%1.1f%%', shadow=True, legend=True, title=\"Smoking\", ylabel='', labeldistance=None)\n",
    "maritalpie.legend(bbox_to_anchor=(1, 1.02), loc='upper left')\n",
    "plt.show()"
   ]
  },
  {
   "cell_type": "code",
   "execution_count": null,
   "id": "c4049fbc",
   "metadata": {},
   "outputs": [],
   "source": [
    "maritalpie = df[\"Drinking days\"].value_counts().plot(kind=\"pie\", autopct='%1.1f%%', shadow=True, legend=True, title=\"Drinking Alcohol\", ylabel='', labeldistance=None)\n",
    "maritalpie.legend(bbox_to_anchor=(1, 1.02), loc='upper left')\n",
    "plt.show()"
   ]
  },
  {
   "cell_type": "markdown",
   "id": "84fd2fc8",
   "metadata": {},
   "source": [
    " "
   ]
  },
  {
   "cell_type": "markdown",
   "id": "faf4bd9a",
   "metadata": {},
   "source": [
    "### Change over the years"
   ]
  },
  {
   "cell_type": "markdown",
   "id": "e24878ab",
   "metadata": {},
   "source": [
    "We can also look at some of the variables over the years, to see if there are major changes."
   ]
  },
  {
   "cell_type": "code",
   "execution_count": null,
   "id": "e6e7f170",
   "metadata": {},
   "outputs": [],
   "source": [
    "sns.catplot(data=df, y=\"Height values\", x=\"Year\", kind=\"violin\", aspect=2)"
   ]
  },
  {
   "cell_type": "code",
   "execution_count": null,
   "id": "32a2ef27",
   "metadata": {},
   "outputs": [],
   "source": [
    "sns.catplot(data=df, y=\"Weight values\", x=\"Year\", kind=\"violin\", aspect=2)"
   ]
  },
  {
   "cell_type": "code",
   "execution_count": null,
   "id": "afd50704",
   "metadata": {},
   "outputs": [],
   "source": [
    "sns.catplot(data=df, x=\"Year\", kind=\"count\", hue = \"BMI_cat\", aspect=2, legend=True)"
   ]
  },
  {
   "cell_type": "markdown",
   "id": "bea974d7",
   "metadata": {},
   "source": [
    "BMI over the years\n",
    "The majority have a noraml BMI, the second largest group is obeese, followed by overweiget, and under weight."
   ]
  },
  {
   "cell_type": "code",
   "execution_count": null,
   "id": "577b20b6",
   "metadata": {},
   "outputs": [],
   "source": [
    "sns.catplot(data=df, x=\"Year\", kind=\"count\", hue = \"Vegtables\", aspect=2, legend=True)"
   ]
  },
  {
   "cell_type": "code",
   "execution_count": null,
   "id": "f127fd87",
   "metadata": {},
   "outputs": [],
   "source": [
    "sns.catplot(data=df, x=\"Year\", kind=\"count\", hue = \"Fruits\", aspect=2, legend=True)"
   ]
  },
  {
   "cell_type": "code",
   "execution_count": null,
   "id": "5e9006c4",
   "metadata": {},
   "outputs": [],
   "source": [
    "sns.catplot(data=df, x=\"Year\", kind=\"count\", hue = \"Juice\", aspect=2, legend=True)"
   ]
  },
  {
   "cell_type": "markdown",
   "id": "d84ae3a3",
   "metadata": {},
   "source": [
    "This question was missing in 2004, therefore it was imputed from mean"
   ]
  },
  {
   "cell_type": "code",
   "execution_count": null,
   "id": "4943212e",
   "metadata": {},
   "outputs": [],
   "source": [
    "sns.catplot(data=df, x=\"Year\", kind=\"count\", hue = \"Drinking days\", aspect=2, legend=True)"
   ]
  },
  {
   "cell_type": "markdown",
   "id": "fc183d60",
   "metadata": {},
   "source": [
    "The question was different in 2014 and 2016"
   ]
  },
  {
   "cell_type": "code",
   "execution_count": null,
   "id": "ed214c4f",
   "metadata": {},
   "outputs": [],
   "source": [
    "sns.catplot(data=df, x=\"Year\", kind=\"count\", hue = \"Smoking\", aspect=2, legend=True)"
   ]
  },
  {
   "cell_type": "markdown",
   "id": "ce50b03a",
   "metadata": {},
   "source": [
    "### Summary"
   ]
  },
  {
   "cell_type": "markdown",
   "id": "1c96c772",
   "metadata": {},
   "source": [
    "We can see there's class imbalance in the data for gender, marital status, employment, and income. We can already see that most have healthy eating habbits such as eating fruits and vegtables, not drinking juice or alcohol, and not smoking. These habits are kept over the years."
   ]
  },
  {
   "cell_type": "markdown",
   "id": "22fbd885",
   "metadata": {},
   "source": [
    " "
   ]
  },
  {
   "cell_type": "markdown",
   "id": "474d7da0",
   "metadata": {},
   "source": [
    "# Weight related meassurments"
   ]
  },
  {
   "cell_type": "code",
   "execution_count": null,
   "id": "239cd3b2",
   "metadata": {},
   "outputs": [],
   "source": [
    "df[[\"Year\", \"Gender\", \"What is your weight wearing simple clothes? (kg)\"]].groupby(by=[\"Year\", \"Gender\"]).median()"
   ]
  },
  {
   "cell_type": "markdown",
   "id": "9c658042",
   "metadata": {},
   "source": [
    "There's not much change over the years"
   ]
  },
  {
   "cell_type": "code",
   "execution_count": null,
   "id": "1989bc16",
   "metadata": {},
   "outputs": [],
   "source": [
    "df[[\"Year\", \"Gender\", \"Weight change\"]].groupby(by=[\"Year\", \"Gender\"]).value_counts()"
   ]
  },
  {
   "cell_type": "markdown",
   "id": "420b2dd2",
   "metadata": {},
   "source": [
    "The question \"Does your weight now differ by more than 10 pounds (about 4.5Kg) from your weight one year ago?\" Does not appear in after 2009.\n",
    "We can see that prior to 2010, there was no weight change for most people."
   ]
  },
  {
   "cell_type": "code",
   "execution_count": null,
   "id": "6aa8ba6b",
   "metadata": {},
   "outputs": [],
   "source": [
    "df[[\"Year\", \"Gender\", \"What is your waist circumference? (cm)\"]].groupby(by=[\"Year\", \"Gender\"]).median()"
   ]
  },
  {
   "cell_type": "markdown",
   "id": "c2aa5237",
   "metadata": {},
   "source": [
    "Numbers are very close and after 2007 they are identical, which is odd.\n",
    "Checking d2008-16[[\"Year\", \"sex\", \"What is your waist circumference? (cm)\"]].groupby(by=[\"Year\", \"sex\"]).median() shows these are the same numbers"
   ]
  },
  {
   "cell_type": "markdown",
   "id": "0ade8031",
   "metadata": {},
   "source": [
    "Waist circumference is considered to be a more accurate weight and health meassurment when compared to BMI. BMI is inaccurate for many people including athletes. For Asians, risk goes up for waist circumference larger than ~78 for women and ~89 for men (The Cleveland Clinic, 2019)."
   ]
  },
  {
   "cell_type": "code",
   "execution_count": null,
   "id": "23c1a8f9",
   "metadata": {},
   "outputs": [],
   "source": [
    "sns.relplot(data=df, x=\"Height values\", y=\"Weight values\", hue=\"BMI_cat\", kind=\"scatter\")"
   ]
  },
  {
   "cell_type": "code",
   "execution_count": null,
   "id": "ecad4559",
   "metadata": {},
   "outputs": [],
   "source": [
    "sns.relplot(data=df, x=\"Height values\", y=\"Waist\", hue=\"BMI_cat\", kind=\"scatter\")\n",
    "plt.axhline(y=78, color=\"pink\")\n",
    "plt.axhline(y=89)"
   ]
  },
  {
   "cell_type": "markdown",
   "id": "0d29c9a8",
   "metadata": {},
   "source": [
    "Unlike BMI which was very nicely organized, waist and BMI is \"messier\". Pink line was added to mark \"safe\" female waist line, and blue to mark \"safe\" male waist line (Zach, 2023, and Diziet Asahi, 2020)."
   ]
  },
  {
   "cell_type": "markdown",
   "id": "4ca084ac",
   "metadata": {},
   "source": [
    "### Check influence of gender, age, education, occupation, and income on weight"
   ]
  },
  {
   "cell_type": "code",
   "execution_count": null,
   "id": "75668374",
   "metadata": {},
   "outputs": [],
   "source": [
    "sns.relplot(data=df, x=\"Height values\", y=\"Waist\", hue=\"Gender\", kind=\"scatter\")\n",
    "plt.axhline(y=78, color=\"pink\")\n",
    "plt.axhline(y=89)"
   ]
  },
  {
   "cell_type": "markdown",
   "id": "afcb9480",
   "metadata": {},
   "source": [
    "It is interesting to see several outliers for female height.\n",
    "It's not clear from the graph how many men and women fall in the normal range, which is imporatant to know, so we'll check that now "
   ]
  },
  {
   "cell_type": "code",
   "execution_count": null,
   "id": "33236a33",
   "metadata": {},
   "outputs": [],
   "source": [
    "((df[\"Gender\"]==\"Male\") & (df[\"Waist\"]<=89)).sum()"
   ]
  },
  {
   "cell_type": "code",
   "execution_count": null,
   "id": "6b8feeed",
   "metadata": {},
   "outputs": [],
   "source": [
    "((df[\"Gender\"]==\"Male\") & (df[\"Waist\"]>89)).sum()"
   ]
  },
  {
   "cell_type": "code",
   "execution_count": null,
   "id": "9a9b585b",
   "metadata": {},
   "outputs": [],
   "source": [
    "((df[\"Gender\"]==\"Female\") & (df[\"Waist\"]<=78)).sum()"
   ]
  },
  {
   "cell_type": "code",
   "execution_count": null,
   "id": "49a40299",
   "metadata": {},
   "outputs": [],
   "source": [
    "((df[\"Gender\"]==\"Female\") & (df[\"Waist\"]>78)).sum()"
   ]
  },
  {
   "cell_type": "markdown",
   "id": "0e27f6be",
   "metadata": {},
   "source": [
    "About 89% of men who provided their waist meassurment, and 84% of women, fell within the recomanded waist circumference, which is good (The Cleveland Clinic, 2019)."
   ]
  },
  {
   "cell_type": "markdown",
   "id": "bb68a99f",
   "metadata": {},
   "source": [
    "For sunburst there can't be None values, so a different BMI catagory is created, one that includes those who didn't provide an answer to weight/height questions. The cut is decided based on values that were found for those who provided all information."
   ]
  },
  {
   "cell_type": "code",
   "execution_count": null,
   "id": "f3b94e49",
   "metadata": {},
   "outputs": [],
   "source": [
    "df[\"BMI sun\"] = (df[\"What is your weight wearing simple clothes? (kg)\"] / ((df[\"What is your height without wearing shoes? (cm)\"])/100)**2)\n",
    "df[\"BMI_sun_cat\"] = pd.cut(df[\"BMI sun\"], bins=[0, 11.94, 18.5, 22.9, 24.9, 50, df[\"BMI sun\"].max()], \n",
    "                      labels=[\"Undefined\", \"Underweight\", \"Normal\", \"Overweight\", \"Obese\", \"Weight undefined\"])"
   ]
  },
  {
   "cell_type": "code",
   "execution_count": null,
   "id": "f11a4b92",
   "metadata": {},
   "outputs": [],
   "source": [
    "fig_bmi = px.sunburst(df, path=[\"Year\", \"Age_cat\", \"BMI_sun_cat\"],\n",
    "                  color=\"Year\", hover_data=[\"BMI_sun_cat\"])\n",
    "fig_bmi.show()"
   ]
  },
  {
   "cell_type": "code",
   "execution_count": null,
   "id": "28114df2",
   "metadata": {},
   "outputs": [],
   "source": [
    "fig_bmi = px.sunburst(df, path=[\"Education\", \"Age_cat\", \"BMI_sun_cat\"],\n",
    "                  color=\"Education\", hover_data=[\"BMI_sun_cat\"])\n",
    "fig_bmi.show()"
   ]
  },
  {
   "cell_type": "markdown",
   "id": "ed90b3ff",
   "metadata": {},
   "source": [
    "As education level increase, younger age groups take a larger percentage."
   ]
  },
  {
   "cell_type": "markdown",
   "id": "ffece2f0",
   "metadata": {},
   "source": [
    "As \"Occupation employed\" had \"None\" values it was impossible to make a sunburst. The solution was to save a smller data frame and drop the empty cells. This gives us the information based on occupation.\n",
    "The same is also done to \"Occupation else - unemployed\" for a complete picture."
   ]
  },
  {
   "cell_type": "code",
   "execution_count": null,
   "id": "10398d0f",
   "metadata": {},
   "outputs": [],
   "source": [
    "dfminiocc = df[[\"Occupation employed\", \"Age_cat\", \"BMI_sun_cat\"]].dropna()\n",
    "\n",
    "fig_bmi = px.sunburst(dfminiocc, path=[\"Occupation employed\", \"Age_cat\", \"BMI_sun_cat\"],\n",
    "                  color=\"Occupation employed\", hover_data=[\"BMI_sun_cat\"])\n",
    "fig_bmi.show()"
   ]
  },
  {
   "cell_type": "code",
   "execution_count": null,
   "id": "56f1ab57",
   "metadata": {},
   "outputs": [],
   "source": [
    "dfminiunemp = df[[\"Occupation else - unemployed\", \"Age_cat\", \"BMI_sun_cat\"]].dropna()\n",
    "\n",
    "fig_bmi = px.sunburst(dfminiunemp, path=[\"Occupation else - unemployed\", \"Age_cat\", \"BMI_sun_cat\"],\n",
    "                  color=\"Occupation else - unemployed\", hover_data=[\"BMI_sun_cat\"])\n",
    "fig_bmi.show()"
   ]
  },
  {
   "cell_type": "markdown",
   "id": "216da66c",
   "metadata": {},
   "source": [
    "It is interesting to see that there are less homemaker in the lower age groups. We can see that for suednts, as they are younger, the second largest group is underweight, we'll it later when we only look at age groups."
   ]
  },
  {
   "cell_type": "markdown",
   "id": "c0321d6e",
   "metadata": {},
   "source": [
    "For everyone (employeed and unemployed)"
   ]
  },
  {
   "cell_type": "code",
   "execution_count": null,
   "id": "5f04a933",
   "metadata": {},
   "outputs": [],
   "source": [
    "fig_bmi = px.sunburst(df, path=[\"Occupation\", \"Age_cat\", \"BMI_sun_cat\"],\n",
    "                  color=\"Occupation\", hover_data=[\"BMI_sun_cat\"])\n",
    "fig_bmi.show()"
   ]
  },
  {
   "cell_type": "code",
   "execution_count": null,
   "id": "a37a4794",
   "metadata": {},
   "outputs": [],
   "source": [
    "fig_bmi = px.sunburst(df, path=[\"Personal income\", \"Age_cat\", \"BMI_sun_cat\"],\n",
    "                  color=\"Personal income\", hover_data=[\"BMI_cat\"])\n",
    "fig_bmi.show()"
   ]
  },
  {
   "cell_type": "code",
   "execution_count": null,
   "id": "454d6000",
   "metadata": {},
   "outputs": [],
   "source": [
    "sns.catplot(data=df, x=\"Gender\", kind=\"count\", hue = \"BMI_cat\", aspect=2, legend=True)\n"
   ]
  },
  {
   "cell_type": "markdown",
   "id": "a93317e3",
   "metadata": {},
   "source": [
    "There's not much difference between the different variables in terms of BMI categories. Females tend to have more overweight and underweight than men."
   ]
  },
  {
   "cell_type": "code",
   "execution_count": null,
   "id": "d6d16057",
   "metadata": {},
   "outputs": [],
   "source": [
    "edchart = sns.catplot(data=df, x=\"Age_cat\", kind=\"count\", hue = \"BMI_cat\", aspect=2, legend=True)\n",
    "edchart.set_xticklabels(rotation=45)"
   ]
  },
  {
   "cell_type": "markdown",
   "id": "335fe892",
   "metadata": {},
   "source": [
    "Younger people (under 29) have a larger percentage of underweight, as age group increase so does overweight and obese. "
   ]
  },
  {
   "cell_type": "code",
   "execution_count": null,
   "id": "5d03f235",
   "metadata": {},
   "outputs": [],
   "source": [
    "edchart = sns.catplot(data=df, x=\"Education\", kind=\"count\", hue = \"BMI_cat\", aspect=2, legend=True)\n",
    "edchart.set_xticklabels(rotation=45)"
   ]
  },
  {
   "cell_type": "markdown",
   "id": "0b18dc79",
   "metadata": {},
   "source": [
    "\"Primary or below\" tend to have more overweight and obese, this trend, while weaker, is also seen in \"Had not completed secondary\". This fits findings in other research that found that lower education is linked to higher BMI, especially in women (Molarius et at, 2000)."
   ]
  },
  {
   "cell_type": "code",
   "execution_count": null,
   "id": "84320e72",
   "metadata": {},
   "outputs": [],
   "source": [
    "edchart = sns.catplot(data=df, x=\"Occupation\", kind=\"count\", hue = \"BMI_cat\", aspect=2.5, legend=True)\n",
    "edchart.set_xticklabels(rotation=45)"
   ]
  },
  {
   "cell_type": "markdown",
   "id": "51ff95b9",
   "metadata": {},
   "source": [
    "\"Un-skilled worker\", \"Plant and machine operator and assembler\", and \"Employers / Managers / Administrator\" had a larger percentage of overweight and obese."
   ]
  },
  {
   "cell_type": "code",
   "execution_count": null,
   "id": "0f297469",
   "metadata": {},
   "outputs": [],
   "source": [
    "edchart = sns.displot(data=df, x=\"Personal income\", kind=\"hist\", hue = \"BMI_cat\", aspect=2.5, legend=True)\n",
    "edchart.set_xticklabels(rotation=45)"
   ]
  },
  {
   "cell_type": "markdown",
   "id": "a25cc383",
   "metadata": {},
   "source": [
    "People earning over 50,000$, had more overweight and obese, which is odd as usually higher BMI is associated with lower income (for exmple: Kim and von dem Knesebeck, 2018)."
   ]
  },
  {
   "cell_type": "markdown",
   "id": "cf61b34b",
   "metadata": {},
   "source": [
    "### Summary"
   ]
  },
  {
   "cell_type": "markdown",
   "id": "0fdfe357",
   "metadata": {},
   "source": [
    "There's not much difference between the different variables in terms of BMI categories. As we can see in the various sunburst graphs, normal BMI is the dominant category no matter which varibable we examine and it holds over the years as well."
   ]
  },
  {
   "cell_type": "markdown",
   "id": "1b3d8710",
   "metadata": {},
   "source": [
    " "
   ]
  },
  {
   "cell_type": "markdown",
   "id": "1efe9093",
   "metadata": {},
   "source": [
    "# Nutrition Information"
   ]
  },
  {
   "cell_type": "code",
   "execution_count": null,
   "id": "2ab43b55",
   "metadata": {},
   "outputs": [],
   "source": [
    "df.pivot_table(index=\"Age_cat\", columns=\"Gender\", values=[\"Vegtables num\", \"Fruits num\", \"Juice num\"])"
   ]
  },
  {
   "cell_type": "code",
   "execution_count": null,
   "id": "98904a37",
   "metadata": {},
   "outputs": [],
   "source": [
    "df.pivot_table(index=\"Education\", columns=\"Gender\", values=[\"Vegtables num\", \"Fruits num\", \"Juice num\"])"
   ]
  },
  {
   "cell_type": "code",
   "execution_count": null,
   "id": "01c7cd6c",
   "metadata": {},
   "outputs": [],
   "source": [
    "df.pivot_table(index=\"Occupation\", columns=\"Gender\", values=[\"Vegtables num\", \"Fruits num\", \"Juice num\"])"
   ]
  },
  {
   "cell_type": "code",
   "execution_count": null,
   "id": "cab0c43a",
   "metadata": {
    "scrolled": true
   },
   "outputs": [],
   "source": [
    "df.pivot_table(index=\"Personal income\", columns=\"Gender\", values=[\"Vegtables num\", \"Fruits num\", \"Juice num\"])"
   ]
  },
  {
   "cell_type": "markdown",
   "id": "b21bc15e",
   "metadata": {},
   "source": [
    "### Summary"
   ]
  },
  {
   "cell_type": "markdown",
   "id": "f821d4a8",
   "metadata": {},
   "source": [
    "Women tend to eat slightly more fruits and vegtables than men.\n",
    "\n",
    "Women without income ate the most fruits and vegtables."
   ]
  },
  {
   "cell_type": "markdown",
   "id": "b998c6b5",
   "metadata": {},
   "source": [
    " "
   ]
  },
  {
   "cell_type": "markdown",
   "id": "0081853b",
   "metadata": {},
   "source": [
    "## Vegtables"
   ]
  },
  {
   "cell_type": "code",
   "execution_count": null,
   "id": "57b246d6",
   "metadata": {},
   "outputs": [],
   "source": [
    "fig_veggie = px.sunburst(df, path=[\"Year\", \"Age_cat\", \"Vegtables\"],\n",
    "                  color=\"Year\", hover_data=[\"Vegtables\"])\n",
    "fig_veggie.show()"
   ]
  },
  {
   "cell_type": "markdown",
   "id": "fef9f3e9",
   "metadata": {},
   "source": [
    "For all the years and age groups, eating vegtables 7 days a week dominantes"
   ]
  },
  {
   "cell_type": "code",
   "execution_count": null,
   "id": "2af3b760",
   "metadata": {},
   "outputs": [],
   "source": [
    "vchart = sns.catplot(data=df, x=\"Gender\", kind=\"count\", hue = \"Vegtables\", aspect=2, legend=True)\n",
    "vchart.set_xticklabels(rotation=45)"
   ]
  },
  {
   "cell_type": "code",
   "execution_count": null,
   "id": "00a20a77",
   "metadata": {},
   "outputs": [],
   "source": [
    "vchart = sns.catplot(data=df, x=\"Age_cat\", kind=\"count\", hue = \"Vegtables\", aspect=2, legend=True)\n",
    "vchart.set_xticklabels(rotation=45)"
   ]
  },
  {
   "cell_type": "code",
   "execution_count": null,
   "id": "9963b32a",
   "metadata": {},
   "outputs": [],
   "source": [
    "vchart = sns.catplot(data=df, x=\"Education\", kind=\"count\", hue = \"Vegtables\", aspect=2, legend=True)\n",
    "vchart.set_xticklabels(rotation=45)"
   ]
  },
  {
   "cell_type": "code",
   "execution_count": null,
   "id": "37b97fbd",
   "metadata": {},
   "outputs": [],
   "source": [
    "vchart = sns.catplot(data=df, x=\"Occupation employed\", kind=\"count\", hue = \"Vegtables\", aspect=2, legend=True)\n",
    "vchart.set_xticklabels(rotation=45)"
   ]
  },
  {
   "cell_type": "code",
   "execution_count": null,
   "id": "1b417dae",
   "metadata": {},
   "outputs": [],
   "source": [
    "vchart = sns.catplot(data=df, x=\"Occupation else - unemployed\", kind=\"count\", hue = \"Vegtables\", aspect=2, legend=True)\n",
    "vchart.set_xticklabels(rotation=45)"
   ]
  },
  {
   "cell_type": "code",
   "execution_count": null,
   "id": "71a4f949",
   "metadata": {},
   "outputs": [],
   "source": [
    "vchart = sns.displot(data=df, x=\"Personal income\", kind=\"hist\", hue = \"Vegtables\", aspect=2, legend=True)\n",
    "vchart.set_xticklabels(rotation=45)"
   ]
  },
  {
   "cell_type": "markdown",
   "id": "a25f8b85",
   "metadata": {},
   "source": [
    "### Summary"
   ]
  },
  {
   "cell_type": "markdown",
   "id": "9875307e",
   "metadata": {},
   "source": [
    "We can see that for the different variables checked, and over the years, the large majority is eating vegtables 7 days a week, which is a very healthy habbit."
   ]
  },
  {
   "cell_type": "markdown",
   "id": "d7405502",
   "metadata": {},
   "source": [
    " "
   ]
  },
  {
   "cell_type": "markdown",
   "id": "e8f75df0",
   "metadata": {},
   "source": [
    "## Fruits"
   ]
  },
  {
   "cell_type": "code",
   "execution_count": null,
   "id": "bcef06bb",
   "metadata": {},
   "outputs": [],
   "source": [
    "fig_fruit = px.sunburst(df, path=[\"Year\", \"Age_cat\", \"Fruits\"],\n",
    "                  color=\"Year\", hover_data=[\"Fruits\"])\n",
    "fig_fruit.show()"
   ]
  },
  {
   "cell_type": "code",
   "execution_count": null,
   "id": "f2ae214d",
   "metadata": {},
   "outputs": [],
   "source": [
    "fchart = sns.catplot(data=df, x=\"Gender\", kind=\"count\", hue = \"Fruits\", aspect=2, legend=True)\n",
    "fchart.set_xticklabels(rotation=45)"
   ]
  },
  {
   "cell_type": "markdown",
   "id": "c4ca6f92",
   "metadata": {},
   "source": [
    "More women appear to eat fruits on a daily basis"
   ]
  },
  {
   "cell_type": "code",
   "execution_count": null,
   "id": "8df2feb2",
   "metadata": {},
   "outputs": [],
   "source": [
    "fchart = sns.catplot(data=df, x=\"Age_cat\", kind=\"count\", hue = \"Fruits\", aspect=2, legend=True)\n",
    "fchart.set_xticklabels(rotation=45)"
   ]
  },
  {
   "cell_type": "code",
   "execution_count": null,
   "id": "b9a5674a",
   "metadata": {},
   "outputs": [],
   "source": [
    "fchart = sns.catplot(data=df, x=\"Education\", kind=\"count\", hue = \"Fruits\", aspect=2, legend=True)\n",
    "fchart.set_xticklabels(rotation=45)"
   ]
  },
  {
   "cell_type": "code",
   "execution_count": null,
   "id": "5940efb9",
   "metadata": {},
   "outputs": [],
   "source": [
    "fchart = sns.catplot(data=df, x=\"Occupation employed\", kind=\"count\", hue = \"Fruits\", aspect=2, legend=True)\n",
    "fchart.set_xticklabels(rotation=45)"
   ]
  },
  {
   "cell_type": "code",
   "execution_count": null,
   "id": "88562b10",
   "metadata": {},
   "outputs": [],
   "source": [
    "fchart = sns.catplot(data=df, x=\"Occupation else - unemployed\", kind=\"count\", hue = \"Fruits\", aspect=2, legend=True)\n",
    "fchart.set_xticklabels(rotation=45)"
   ]
  },
  {
   "cell_type": "code",
   "execution_count": null,
   "id": "0a53e976",
   "metadata": {},
   "outputs": [],
   "source": [
    "fchart = sns.displot(data=df, x=\"Personal income\", kind=\"hist\", hue = \"Fruits\", aspect=2, legend=True)\n",
    "fchart.set_xticklabels(rotation=45)"
   ]
  },
  {
   "cell_type": "markdown",
   "id": "570a90ff",
   "metadata": {},
   "source": [
    "### Summary"
   ]
  },
  {
   "cell_type": "code",
   "execution_count": null,
   "id": "6d5ed968",
   "metadata": {},
   "outputs": [],
   "source": [
    "fig_fruit = px.sunburst(df, path=[\"BMI_sun_cat\", \"Fruits\", \"Fruits per day\"],\n",
    "                  color=\"BMI_sun_cat\", hover_data=[\"Fruits\"])\n",
    "fig_fruit.show()"
   ]
  },
  {
   "cell_type": "markdown",
   "id": "b2fd8645",
   "metadata": {},
   "source": [
    "Different BMI groups eat similar amounts of fruits"
   ]
  },
  {
   "cell_type": "markdown",
   "id": "4a3243f6",
   "metadata": {},
   "source": [
    "There are not much differences between the various variables. We can see that the large majority is eating fruits 7 days a week. This is a very healthy habbit, research found that \"increasing the daily consumption of fruit is inversely correlated to weight gain\" (Sharma et al, 2016). The majority of people ate 1 fruit per day."
   ]
  },
  {
   "cell_type": "markdown",
   "id": "4a39d142",
   "metadata": {},
   "source": [
    " "
   ]
  },
  {
   "cell_type": "markdown",
   "id": "311fd48f",
   "metadata": {},
   "source": [
    "## Juice"
   ]
  },
  {
   "cell_type": "code",
   "execution_count": null,
   "id": "62c08301",
   "metadata": {},
   "outputs": [],
   "source": [
    "fig_juice = px.sunburst(df, path=[\"Year\", \"Age_cat\", \"Juice\"],\n",
    "                  color=\"Year\", hover_data=[\"Juice\"])\n",
    "fig_juice.show()"
   ]
  },
  {
   "cell_type": "markdown",
   "id": "d6dea2a6",
   "metadata": {},
   "source": [
    "Over the years and age groups, the largest group doen't drink fruit or vegtable juice. This is healthy as it's high on sugar and low on fiber and other benefits you gain ferom eating fruits and vegtables in raw form."
   ]
  },
  {
   "cell_type": "code",
   "execution_count": null,
   "id": "c794e36a",
   "metadata": {},
   "outputs": [],
   "source": [
    "jchart = sns.catplot(data=df, x=\"Gender\", kind=\"count\", hue = \"Juice\", aspect=2.5, legend=True)\n",
    "jchart.set_xticklabels(rotation=45)"
   ]
  },
  {
   "cell_type": "code",
   "execution_count": null,
   "id": "b4e1fdbc",
   "metadata": {},
   "outputs": [],
   "source": [
    "jchart = sns.catplot(data=df, x=\"Age_cat\", kind=\"count\", hue = \"Juice\", aspect=2.5, legend=True)\n",
    "jchart.set_xticklabels(rotation=45)"
   ]
  },
  {
   "cell_type": "code",
   "execution_count": null,
   "id": "01490945",
   "metadata": {},
   "outputs": [],
   "source": [
    "jchart = sns.catplot(data=df, x=\"Education\", kind=\"count\", hue = \"Juice\", aspect=2.5, legend=True)\n",
    "jchart.set_xticklabels(rotation=45)"
   ]
  },
  {
   "cell_type": "markdown",
   "id": "b24cbc24",
   "metadata": {},
   "source": [
    "There are slightly more people with \"Tertiary (non-degree) / degree or above\" who occasionally drink juice."
   ]
  },
  {
   "cell_type": "code",
   "execution_count": null,
   "id": "698437a9",
   "metadata": {},
   "outputs": [],
   "source": [
    "jchart = sns.catplot(data=df, x=\"Occupation employed\", kind=\"count\", hue = \"Juice\", aspect=2.5, legend=True)\n",
    "jchart.set_xticklabels(rotation=45)"
   ]
  },
  {
   "cell_type": "code",
   "execution_count": null,
   "id": "eb005274",
   "metadata": {},
   "outputs": [],
   "source": [
    "jchart = sns.catplot(data=df, x=\"Occupation else - unemployed\", kind=\"count\", hue = \"Juice\", aspect=2.5, legend=True)\n",
    "jchart.set_xticklabels(rotation=45)"
   ]
  },
  {
   "cell_type": "code",
   "execution_count": null,
   "id": "83675c0f",
   "metadata": {},
   "outputs": [],
   "source": [
    "jchart = sns.displot(data=df, x=\"Personal income\", kind=\"hist\", hue = \"Juice\", aspect=2.5, legend=True)\n",
    "jchart.set_xticklabels(rotation=45)"
   ]
  },
  {
   "cell_type": "markdown",
   "id": "041d19ef",
   "metadata": {},
   "source": [
    "### Summary"
   ]
  },
  {
   "cell_type": "markdown",
   "id": "2bb61178",
   "metadata": {},
   "source": [
    "Most people don't drink fruit or vegtables juice, which is very healthy. There's not much difference between the variables examined."
   ]
  },
  {
   "cell_type": "markdown",
   "id": "a4b964d2",
   "metadata": {},
   "source": [
    " "
   ]
  },
  {
   "cell_type": "markdown",
   "id": "4cca676c",
   "metadata": {},
   "source": [
    "# Summary"
   ]
  },
  {
   "cell_type": "markdown",
   "id": "29910c74",
   "metadata": {},
   "source": [
    "Hong Kong people in this data set maintain a healthy lifestyle. The majority eats fruits and vegtables on a daily basis, don't drink juice, don't drink alcohol and don't smoke, and ... All these likely contribute to why Hong Kong people have the longest life expectancy (CUHK eNews, 2021)."
   ]
  },
  {
   "cell_type": "markdown",
   "id": "1071577d",
   "metadata": {},
   "source": [
    " "
   ]
  },
  {
   "cell_type": "markdown",
   "id": "5c8d4f48",
   "metadata": {},
   "source": [
    "# References"
   ]
  },
  {
   "cell_type": "markdown",
   "id": "d3765a02",
   "metadata": {},
   "source": [
    "Asahi, D. (2020, February 2). Draw horizontal line on facetplot (seaborn relplot) [duplicate]. Stackoverflow. https://stackoverflow.com/questions/60309406/draw-horizontal-line-on-facetplot-seaborn-relplot."
   ]
  },
  {
   "cell_type": "markdown",
   "id": "605c4b85",
   "metadata": {},
   "source": [
    "CHP. (2023, April 26). Obesity. Centre for Health Protection. https://www.chp.gov.hk/en/healthtopics/content/25/8802.html#:~:text=It%20is%20calculated%20by%20dividing,above%20is%20classified%20as%20obese."
   ]
  },
  {
   "cell_type": "markdown",
   "id": "8ff5e138",
   "metadata": {},
   "source": [
    "CUHK eNews. (2021, January). Why Hong Kong Has the Longest Life Expectancy in the World. The Chinese University of Hong Kong. https://www.oal.cuhk.edu.hk/cuhkenews_202101_life_expectancy/."
   ]
  },
  {
   "cell_type": "markdown",
   "id": "9bd6d301",
   "metadata": {},
   "source": [
    "Kim, T. J., & von dem Knesebeck, O. (2018). Income and obesity: what is the direction of the relationship? A systematic review and meta-analysis. BMJ open, 8(1), e019862. https://doi.org/10.1136/bmjopen-2017-019862"
   ]
  },
  {
   "cell_type": "markdown",
   "id": "9bd9111b",
   "metadata": {},
   "source": [
    "Lim, J. U., Lee, J. H., Kim, J. S., Hwang, Y. I., Kim, T. H., Lim, S. Y., Yoo, K. H., Jung, K. S., Kim, Y. K., & Rhee, C. K. (2017). Comparison of World Health Organization and Asia-Pacific body mass index classifications in COPD patients. International journal of chronic obstructive pulmonary disease, 12, 2465–2475. https://doi.org/10.2147/COPD.S141295."
   ]
  },
  {
   "cell_type": "markdown",
   "id": "cbc59a4e",
   "metadata": {},
   "source": [
    "McKinney, T. (2021, August 24). How to customize pandas pie plot with labels and legend. Stackoverflow. https://www.statology.org/pandas-pie-chart/https://stackoverflow.com/questions/68909283/how-to-customize-pandas-pie-plot-with-labels-and-legend."
   ]
  },
  {
   "cell_type": "markdown",
   "id": "366bbac9",
   "metadata": {},
   "source": [
    "Molarius, A., Seidell, J. C., Sans, S., Tuomilehto, J., & Kuulasmaa, K. (2000). Educational level, relative body weight, and changes in their association over 10 years: an international perspective from the WHO MONICA Project. American journal of public health, 90(8), 1260–1268. https://doi.org/10.2105/ajph.90.8.1260."
   ]
  },
  {
   "cell_type": "markdown",
   "id": "c7a86585",
   "metadata": {},
   "source": [
    "Sharma, S. P., Chung, H. J., Kim, H. J., & Hong, S. T. (2016). Paradoxical Effects of Fruit on Obesity. Nutrients, 8(10), 633. https://doi.org/10.3390/nu8100633."
   ]
  },
  {
   "cell_type": "markdown",
   "id": "ac6b5f2f",
   "metadata": {},
   "source": [
    "The Cleveland Clinic. (2019, August 19). Excess Pounds and Heart Disease: How to Calculate Your Risk : Should you measure BMI, waist circumference or something else? Heart Health. https://health.clevelandclinic.org/excess-pounds-and-heart-disease-how-to-calculate-your-risk/#:~:text=—%20your%20height.,be%20less%20than%2033%20inches"
   ]
  },
  {
   "cell_type": "markdown",
   "id": "8dd53772",
   "metadata": {},
   "source": [
    "Zach. (2023, February 2). How to Add Line to Scatter Plot in Seaborn. Statology.  https://stackoverflow.com/questions/60309406/draw-horizontal-line-on-facetplot-seaborn-relplot."
   ]
  },
  {
   "cell_type": "markdown",
   "id": "028938ab",
   "metadata": {},
   "source": [
    " "
   ]
  }
 ],
 "metadata": {
  "kernelspec": {
   "display_name": "Python 3 (ipykernel)",
   "language": "python",
   "name": "python3"
  },
  "language_info": {
   "codemirror_mode": {
    "name": "ipython",
    "version": 3
   },
   "file_extension": ".py",
   "mimetype": "text/x-python",
   "name": "python",
   "nbconvert_exporter": "python",
   "pygments_lexer": "ipython3",
   "version": "3.10.9"
  }
 },
 "nbformat": 4,
 "nbformat_minor": 5
}
